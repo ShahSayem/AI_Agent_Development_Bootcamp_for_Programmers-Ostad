{
  "cells": [
    {
      "cell_type": "code",
      "execution_count": null,
      "metadata": {
        "colab": {
          "base_uri": "https://localhost:8080/"
        },
        "collapsed": true,
        "id": "ZfLhi23VCl9Y",
        "outputId": "e4c6e19a-9a81-468b-9848-938211ab4139"
      },
      "outputs": [],
      "source": [
        "!curl -fsSL https://ollama.com/install.sh | sh\n",
        "!nohup ollama serve > output.log 2>&1 &\n",
        "!ollama pull phi4"
      ]
    },
    {
      "cell_type": "code",
      "execution_count": null,
      "metadata": {
        "colab": {
          "base_uri": "https://localhost:8080/"
        },
        "collapsed": true,
        "id": "CXTW7hgPDGCB",
        "outputId": "850cf201-5940-4549-edce-e59dda8280b3"
      },
      "outputs": [],
      "source": [
        "!pip install langchain langchain_community langchain_ollama chromadb beautifulsoup4 langchain-chroma"
      ]
    },
    {
      "cell_type": "code",
      "execution_count": null,
      "metadata": {
        "colab": {
          "base_uri": "https://localhost:8080/",
          "height": 897
        },
        "id": "smw0KY2VBzgL",
        "outputId": "0a228065-cfed-4d67-e790-26c1cc45a327"
      },
      "outputs": [],
      "source": [
        "import bs4\n",
        "from langchain_community.document_loaders import WebBaseLoader\n",
        "from langchain.text_splitter import RecursiveCharacterTextSplitter\n",
        "from langchain_community.embeddings import OllamaEmbeddings\n",
        "from langchain_chroma import Chroma\n",
        "from langchain_ollama import ChatOllama\n",
        "from langchain_core.prompts import ChatPromptTemplate\n",
        "from langchain_core.runnables import RunnablePassthrough\n",
        "from langchain_core.output_parsers import StrOutputParser\n",
        "\n",
        "# Step 1: Scrape the webpage\n",
        "def scrape_webpage(url):\n",
        "    # Use BeautifulSoup to parse specific content (e.g., 'content-area' class)\n",
        "    bs4_strainer = bs4.SoupStrainer(class_=\"content-area\")\n",
        "    loader = WebBaseLoader(\n",
        "        web_paths=(url,),\n",
        "        bs_kwargs={\"parse_only\": bs4_strainer},\n",
        "    )\n",
        "    docs = loader.load()\n",
        "    return docs\n",
        "\n",
        "# Step 2: Process and store data in vector store\n",
        "def process_documents(docs):\n",
        "    # Split documents into smaller chunks\n",
        "    text_splitter = RecursiveCharacterTextSplitter(\n",
        "        chunk_size=1000,\n",
        "        chunk_overlap=200\n",
        "    )\n",
        "    splits = text_splitter.split_documents(docs)\n",
        "\n",
        "    # Create embeddings using Ollama\n",
        "    embeddings = OllamaEmbeddings(model=\"phi4\")\n",
        "\n",
        "    # Store in Chroma vector store\n",
        "    vectorstore = Chroma.from_documents(\n",
        "        documents=splits,\n",
        "        embedding=embeddings,\n",
        "        collection_name=\"web_content\"\n",
        "    )\n",
        "    return vectorstore\n",
        "\n",
        "# Step 3: Set up RAG pipeline for real-time querying\n",
        "def setup_rag_pipeline(vectorstore):\n",
        "    # Initialize Phi-4 model via Ollama\n",
        "    llm = ChatOllama(\n",
        "        model=\"phi4\",\n",
        "        base_url=\"http://localhost:11434\",\n",
        "        temperature=0\n",
        "    )\n",
        "\n",
        "    # Define prompt template\n",
        "    template = \"\"\"Answer the question based only on the following context:\n",
        "    {context}\n",
        "\n",
        "    Question: {question}\n",
        "    \"\"\"\n",
        "    prompt = ChatPromptTemplate.from_template(template)\n",
        "\n",
        "    # Create retriever from vector store\n",
        "    retriever = vectorstore.as_retriever()\n",
        "\n",
        "    # Build RAG chain\n",
        "    rag_chain = (\n",
        "        {\"context\": retriever, \"question\": RunnablePassthrough()}\n",
        "        | prompt\n",
        "        | llm\n",
        "        | StrOutputParser()\n",
        "    )\n",
        "    return rag_chain\n",
        "\n",
        "# Step 4: Main execution\n",
        "def main():\n",
        "    # Example URL to scrape (replace with your target URL)\n",
        "    url = \"https://pythonology.eu/using-pandas_ta-to-generate-technical-indicators-and-signals/\"\n",
        "\n",
        "    # Scrape webpage\n",
        "    print(\"Scraping webpage...\")\n",
        "    docs = scrape_webpage(url)\n",
        "\n",
        "    # Process and store in vector store\n",
        "    print(\"Processing and storing data...\")\n",
        "    vectorstore = process_documents(docs)\n",
        "\n",
        "    # Set up RAG pipeline\n",
        "    print(\"Setting up RAG pipeline...\")\n",
        "    rag_chain = setup_rag_pipeline(vectorstore)\n",
        "\n",
        "    # Example real-time query\n",
        "    query = \"What are the main technical indicators mentioned in the article?\"\n",
        "    print(\"Executing query:\", query)\n",
        "    response = rag_chain.invoke(query)\n",
        "    print(\"\\nResponse:\", response)\n",
        "\n",
        "    # Optional: Clean up vector store\n",
        "    vectorstore.delete_collection()\n",
        "\n",
        "if __name__ == \"__main__\":\n",
        "    main()"
      ]
    },
    {
      "cell_type": "code",
      "execution_count": null,
      "metadata": {
        "id": "_-R16MwsClYj"
      },
      "outputs": [],
      "source": [
        "def scrape_webpage(url):\n",
        "    # Use BeautifulSoup to parse specific content (e.g., 'content-area' class)\n",
        "    bs4_strainer = bs4.SoupStrainer(class_=\"content-area\")\n",
        "    loader = WebBaseLoader(\n",
        "        web_paths=(url,),\n",
        "        bs_kwargs={\"parse_only\": bs4_strainer},\n",
        "    )\n",
        "    docs = loader.load()\n",
        "    return docs\n",
        "\n",
        "doc = scrape_webpage('https://pythonology.eu/using-pandas_ta-to-generate-technical-indicators-and-signals/')"
      ]
    },
    {
      "cell_type": "code",
      "execution_count": null,
      "metadata": {
        "colab": {
          "base_uri": "https://localhost:8080/"
        },
        "id": "xqEtC7d9hHBO",
        "outputId": "502bbbb6-73bc-44a4-9f14-7e2f332c8503"
      },
      "outputs": [
        {
          "data": {
            "text/plain": [
              "[Document(metadata={'source': 'https://pythonology.eu/using-pandas_ta-to-generate-technical-indicators-and-signals/', 'title': 'Previous'}, page_content=\"Disclaimer:Remember that trading involves risk, and most traders lose money. This blog post is for educational purposes only. Always practice risk management and consider seeking professional advice before trading.Table of ContentsDisclaimer:What Is Algorithmic Trading? Advantages of Algorithmic TradingDisadvantages of Algorithmic TradingUsing Python for Algorithmic TradingTechnical Analysis with PythonPlotting Simple Moving Averages (SMA)Plotting RSIA Simple Trading StrategyConclusionWhat Is Algorithmic Trading?Algorithmic trading, often referred to as algo trading, uses computer algorithms to automate trading decisions based on predefined criteria. These criteria are set by the traders, for example, you might tell the program to Buy when the last 5 candlesticks have an upward trend, or Sell when the last 5 candlesticks are following a downtrend. This approach eliminates human emotions, enabling data-driven decision-making and executing trades at high speed and precision.This approach, however, has some advantages and disadvantages.Advantages of Algorithmic TradingReduced Emotional Bias: Automated systems execute trades based on logic, not emotions.Faster Execution: Algorithms can process vast amounts of data and execute orders in milliseconds.Scalability: Algorithms can manage multiple trading strategies and assets simultaneously.Disadvantages of Algorithmic TradingTechnical Glitches: Systems can fail due to bugs or connectivity issues.Over-Optimization: Strategies may be overly fine-tuned to historical data, reducing real-world performance.Market Volatility: Sudden market changes can lead to significant losses.Using Python for Algorithmic TradingPython is a popular language for algorithmic trading due to its simplicity and extensive libraries. There are a lot of great libraries which are used for collecting trading data, processing and plotting the data, and generating technical indicators. In order to analyze the market and understand the trend and find opportunities to trade, we can use the historical data provided by Yahoo and the yfinance library (pip install yfinance):import yfinance as yf\\n\\n# Fetch historical data for EUR/USD\\ndata = yf.download('EURUSD=X', start='2023-10-01', end='2024-07-10', interval='1d')\\n\\n# Check the first 5 rows of data\\nprint(data.head())Technical Analysis with PythonLibraries like pandas and numpy are essential for data manipulation. For technical analysis, I recommend pandas_ta technical analysis library.I am going to explain how you can use the pandas_ta library to plot simple indicators such as Simple Moving Average and RSI and then generate Buy and Sell signals.Plotting Simple Moving Averages (SMA)Simple Moving Average is the “Hello World” of algorithmic trading. It is very easy to calculate and plot. It shows the trend of the market by calculating the average price of an asset over a specified period, typically using closing prices.Here’s how to calculate and plot SMA:# remember to install pandas and pandas_ta\\n# we use the data we just downloaded by yfinance\\n\\nimport pandas as pd\\nimport matplotlib.pyplot as plt\\nimport pandas_ta as ta\\n\\n# Calculate SMAs and add them to the data as columns\\ndata['SMA_20'] = ta.sma(data['Close'], length=20)\\ndata['SMA_50'] = ta.sma(data['Close'], length=50)\\n\\n# Plotting SMAs\\nplt.figure(figsize=(12, 6))\\nplt.plot(data['Close'], label='Close Price')\\nplt.plot(data['SMA_20'], label='20-Day SMA')\\nplt.plot(data['SMA_50'], label='50-Day SMA')\\nplt.legend()\\nplt.show()\\nAs you saw in the code we used the following code to calculate the SMA of the last 20 days and then added the results as a column to our data dataframe:ta.sma(data['Close'], length=20)If you want to know which methods are available through pandas_ta on your data, you can use the help function:help(data.ta)Plotting RSIThe Relative Strength Index (RSI) is a momentum oscillator that measures the speed and change of price movements. It oscillates between 0 and 100 and is typically used to identify overbought (above 70) or oversold (below 30) conditions in a market.Here’s how you can calculate and plot RSI using pandas_ta:# we are using the same data as before\\n# Calculate RSI\\ndata['RSI'] = ta.rsi(data['Close'], length=14)\\n\\n# Plotting RSI\\nplt.figure(figsize=(12, 6))\\nplt.plot(data['RSI'], label='RSI')\\nplt.axhline(30, linestyle='--', alpha=0.5, color='red')\\nplt.axhline(70, linestyle='--', alpha=0.5, color='red')\\nplt.title('RSI')\\nplt.legend()\\nplt.show()A Simple Trading StrategyHere is a simple trading strategy using SMA.Buy SignalWhen the short-term SMA crosses above the long-term SMA.Sell SignalWhen the short-term SMA crosses below the long-term SMA.We’ll generate buy and sell signals based on the crossover of a short-term SMA and a long-term SMA, and plot these signals on the chart in green and red.# use the same data as before\\n# Calculate indicators\\ndata['SMA_50'] = ta.sma(data['Close'], length=50)\\ndata['SMA_200'] = ta.sma(data['Close'], length=200)\\n\\n# Generate Buy and Sell signals\\ndata['Buy_Signal'] = np.where((data['SMA_50'] > data['SMA_200']) & (data['SMA_50'].shift(1) <= data['SMA_200'].shift(1)), 1, 0)\\ndata['Sell_Signal'] = np.where((data['SMA_50'] < data['SMA_200']) & (data['SMA_50'].shift(1) >= data['SMA_200'].shift(1)), -1, 0)\\n\\n# Plotting\\nplt.figure(figsize=(14, 8))\\n\\n# Plot Closing Price and SMAs\\nplt.plot(data['Close'], label='Close Price', alpha=0.5)\\nplt.plot(data['SMA_50'], label='50-Day SMA', alpha=0.75, color='blue')\\nplt.plot(data['SMA_200'], label='200-Day SMA', alpha=0.75, color='orange')\\n\\n# Plot Buy Signals\\nplt.plot(data[data['Buy_Signal'] == 1].index, data['Close'][data['Buy_Signal'] == 1], '^', markersize=10, color='g', lw=0, label='Buy Signal')\\n\\n# Plot Sell Signals\\nplt.plot(data[data['Sell_Signal'] == -1].index, data['Close'][data['Sell_Signal'] == -1], 'v', markersize=10, color='r', lw=0, label='Sell Signal')\\n\\nplt.title('EUR/USD Price with SMA Crossover Buy and Sell Signals')\\nplt.legend()\\nplt.show()Summary of strategy:Data Fetching: We use yfinance to download historical data for EUR/USD.Indicator Calculation: We calculate the 50-day and 200-day SMAs using pandas-ta.Signal Generation: Buy signals are generated when the 50-day SMA crosses above the 200-day SMA, and sell signals are generated when the 50-day SMA crosses below the 200-day SMA.Plotting: We plot the closing price and the SMAs as line charts. Buy signals are marked with green triangles, and sell signals are marked with red triangles.As you can see this strategy does not predict the trend well. So you need to consider other ways to generate signals.ConclusionIn this post, I have introduced you to the pandas_ta python library for trading technical analysis to generate technical indicators and buy/sell signals. Algorithmic trading is a very complex field and requires a lot of knowledge regarding not only finance and market analysis, but also programming. You do not want to rely on these simple strategies to risk your money! Trading requires knowledge of risk and emotion management. So, this post was just an introduction to how you can start to learn a useful library and hopefully improve your knowledge of algorithmic trading.\\n\\nvahidI hold a PhD in Applied Linguistics. My passion for natural languages drew me toward NLP and learning Python. Now, I run a Youtube channel called Pythonology.Post navigationPrevious\\nPreviousTinyDB: A Lightweight Python Database for Simple ProjectsNextContinue\\na RAG Web Scraper with LangChain and OllamaSimilar Posts\\n\\nPython Library What is the best Python PDF library?\\n\\nRead More What is the best Python PDF library?Continue\\n \\n\\nPython Library GLOB Module: File Searching in Python\\n\\nRead More GLOB Module: File Searching in PythonContinue\\n \\n\\nPython Library | Python Skills how to use pyDoc to generate documentation in python?\\n\\nRead More how to use pyDoc to generate documentation in python?Continue\\n \\n\\nPython Library | web development Reflex: React With Python!\\n\\nRead More Reflex: React With Python!Continue\\n \\n\\nPython Library | Python Skills Cleaner, More Reliable Python Code with Type Hints in python\\n\\nRead More Cleaner, More Reliable Python Code with Type Hints in pythonContinue\\n \\n\\nPython Library | Python Skills | Web Scraping A Beginner’s Guide to Using the LXML Library in Python\\n\\nRead More A Beginner’s Guide to Using the LXML Library in PythonContinue\\n \")]"
            ]
          },
          "execution_count": 16,
          "metadata": {},
          "output_type": "execute_result"
        }
      ],
      "source": [
        "doc"
      ]
    },
    {
      "cell_type": "code",
      "execution_count": null,
      "metadata": {
        "id": "Zu3Nis-VhbNo"
      },
      "outputs": [],
      "source": [
        "text_splitter = RecursiveCharacterTextSplitter(\n",
        "        chunk_size=1000,\n",
        "        chunk_overlap=200\n",
        "    )\n",
        "splits = text_splitter.split_documents(doc)"
      ]
    },
    {
      "cell_type": "code",
      "execution_count": null,
      "metadata": {
        "colab": {
          "base_uri": "https://localhost:8080/"
        },
        "id": "eLhSHHr2kizk",
        "outputId": "d9400d86-e459-4c9f-e3df-0c9816c777ad"
      },
      "outputs": [
        {
          "data": {
            "text/plain": [
              "[Document(metadata={'source': 'https://pythonology.eu/using-pandas_ta-to-generate-technical-indicators-and-signals/', 'title': 'Previous'}, page_content='Disclaimer:Remember that trading involves risk, and most traders lose money. This blog post is for educational purposes only. Always practice risk management and consider seeking professional advice before trading.Table of ContentsDisclaimer:What Is Algorithmic Trading? Advantages of Algorithmic TradingDisadvantages of Algorithmic TradingUsing Python for Algorithmic TradingTechnical Analysis with PythonPlotting Simple Moving Averages (SMA)Plotting RSIA Simple Trading StrategyConclusionWhat Is Algorithmic Trading?Algorithmic trading, often referred to as algo trading, uses computer algorithms to automate trading decisions based on predefined criteria. These criteria are set by the traders, for example, you might tell the program to Buy when the last 5 candlesticks have an upward trend, or Sell when the last 5 candlesticks are following a downtrend. This approach eliminates human emotions, enabling data-driven decision-making and executing trades at high speed and precision.This'),\n",
              " Document(metadata={'source': 'https://pythonology.eu/using-pandas_ta-to-generate-technical-indicators-and-signals/', 'title': 'Previous'}, page_content='or Sell when the last 5 candlesticks are following a downtrend. This approach eliminates human emotions, enabling data-driven decision-making and executing trades at high speed and precision.This approach, however, has some advantages and disadvantages.Advantages of Algorithmic TradingReduced Emotional Bias: Automated systems execute trades based on logic, not emotions.Faster Execution: Algorithms can process vast amounts of data and execute orders in milliseconds.Scalability: Algorithms can manage multiple trading strategies and assets simultaneously.Disadvantages of Algorithmic TradingTechnical Glitches: Systems can fail due to bugs or connectivity issues.Over-Optimization: Strategies may be overly fine-tuned to historical data, reducing real-world performance.Market Volatility: Sudden market changes can lead to significant losses.Using Python for Algorithmic TradingPython is a popular language for algorithmic trading due to its simplicity and extensive libraries. There are a lot of'),\n",
              " Document(metadata={'source': 'https://pythonology.eu/using-pandas_ta-to-generate-technical-indicators-and-signals/', 'title': 'Previous'}, page_content='changes can lead to significant losses.Using Python for Algorithmic TradingPython is a popular language for algorithmic trading due to its simplicity and extensive libraries. There are a lot of great libraries which are used for collecting trading data, processing and plotting the data, and generating technical indicators. In order to analyze the market and understand the trend and find opportunities to trade, we can use the historical data provided by Yahoo and the yfinance library (pip install yfinance):import yfinance as yf'),\n",
              " Document(metadata={'source': 'https://pythonology.eu/using-pandas_ta-to-generate-technical-indicators-and-signals/', 'title': 'Previous'}, page_content=\"# Fetch historical data for EUR/USD\\ndata = yf.download('EURUSD=X', start='2023-10-01', end='2024-07-10', interval='1d')\\n\\n# Check the first 5 rows of data\\nprint(data.head())Technical Analysis with PythonLibraries like pandas and numpy are essential for data manipulation. For technical analysis, I recommend pandas_ta technical analysis library.I am going to explain how you can use the pandas_ta library to plot simple indicators such as Simple Moving Average and RSI and then generate Buy and Sell signals.Plotting Simple Moving Averages (SMA)Simple Moving Average is the “Hello World” of algorithmic trading. It is very easy to calculate and plot. It shows the trend of the market by calculating the average price of an asset over a specified period, typically using closing prices.Here’s how to calculate and plot SMA:# remember to install pandas and pandas_ta\\n# we use the data we just downloaded by yfinance\\n\\nimport pandas as pd\\nimport matplotlib.pyplot as plt\\nimport pandas_ta as ta\"),\n",
              " Document(metadata={'source': 'https://pythonology.eu/using-pandas_ta-to-generate-technical-indicators-and-signals/', 'title': 'Previous'}, page_content=\"import pandas as pd\\nimport matplotlib.pyplot as plt\\nimport pandas_ta as ta\\n\\n# Calculate SMAs and add them to the data as columns\\ndata['SMA_20'] = ta.sma(data['Close'], length=20)\\ndata['SMA_50'] = ta.sma(data['Close'], length=50)\"),\n",
              " Document(metadata={'source': 'https://pythonology.eu/using-pandas_ta-to-generate-technical-indicators-and-signals/', 'title': 'Previous'}, page_content=\"# Plotting SMAs\\nplt.figure(figsize=(12, 6))\\nplt.plot(data['Close'], label='Close Price')\\nplt.plot(data['SMA_20'], label='20-Day SMA')\\nplt.plot(data['SMA_50'], label='50-Day SMA')\\nplt.legend()\\nplt.show()\\nAs you saw in the code we used the following code to calculate the SMA of the last 20 days and then added the results as a column to our data dataframe:ta.sma(data['Close'], length=20)If you want to know which methods are available through pandas_ta on your data, you can use the help function:help(data.ta)Plotting RSIThe Relative Strength Index (RSI) is a momentum oscillator that measures the speed and change of price movements. It oscillates between 0 and 100 and is typically used to identify overbought (above 70) or oversold (below 30) conditions in a market.Here’s how you can calculate and plot RSI using pandas_ta:# we are using the same data as before\\n# Calculate RSI\\ndata['RSI'] = ta.rsi(data['Close'], length=14)\"),\n",
              " Document(metadata={'source': 'https://pythonology.eu/using-pandas_ta-to-generate-technical-indicators-and-signals/', 'title': 'Previous'}, page_content=\"# Plotting RSI\\nplt.figure(figsize=(12, 6))\\nplt.plot(data['RSI'], label='RSI')\\nplt.axhline(30, linestyle='--', alpha=0.5, color='red')\\nplt.axhline(70, linestyle='--', alpha=0.5, color='red')\\nplt.title('RSI')\\nplt.legend()\\nplt.show()A Simple Trading StrategyHere is a simple trading strategy using SMA.Buy SignalWhen the short-term SMA crosses above the long-term SMA.Sell SignalWhen the short-term SMA crosses below the long-term SMA.We’ll generate buy and sell signals based on the crossover of a short-term SMA and a long-term SMA, and plot these signals on the chart in green and red.# use the same data as before\\n# Calculate indicators\\ndata['SMA_50'] = ta.sma(data['Close'], length=50)\\ndata['SMA_200'] = ta.sma(data['Close'], length=200)\"),\n",
              " Document(metadata={'source': 'https://pythonology.eu/using-pandas_ta-to-generate-technical-indicators-and-signals/', 'title': 'Previous'}, page_content=\"# Generate Buy and Sell signals\\ndata['Buy_Signal'] = np.where((data['SMA_50'] > data['SMA_200']) & (data['SMA_50'].shift(1) <= data['SMA_200'].shift(1)), 1, 0)\\ndata['Sell_Signal'] = np.where((data['SMA_50'] < data['SMA_200']) & (data['SMA_50'].shift(1) >= data['SMA_200'].shift(1)), -1, 0)\\n\\n# Plotting\\nplt.figure(figsize=(14, 8))\\n\\n# Plot Closing Price and SMAs\\nplt.plot(data['Close'], label='Close Price', alpha=0.5)\\nplt.plot(data['SMA_50'], label='50-Day SMA', alpha=0.75, color='blue')\\nplt.plot(data['SMA_200'], label='200-Day SMA', alpha=0.75, color='orange')\\n\\n# Plot Buy Signals\\nplt.plot(data[data['Buy_Signal'] == 1].index, data['Close'][data['Buy_Signal'] == 1], '^', markersize=10, color='g', lw=0, label='Buy Signal')\\n\\n# Plot Sell Signals\\nplt.plot(data[data['Sell_Signal'] == -1].index, data['Close'][data['Sell_Signal'] == -1], 'v', markersize=10, color='r', lw=0, label='Sell Signal')\"),\n",
              " Document(metadata={'source': 'https://pythonology.eu/using-pandas_ta-to-generate-technical-indicators-and-signals/', 'title': 'Previous'}, page_content=\"plt.title('EUR/USD Price with SMA Crossover Buy and Sell Signals')\\nplt.legend()\"),\n",
              " Document(metadata={'source': 'https://pythonology.eu/using-pandas_ta-to-generate-technical-indicators-and-signals/', 'title': 'Previous'}, page_content='plt.show()Summary of strategy:Data Fetching: We use yfinance to download historical data for EUR/USD.Indicator Calculation: We calculate the 50-day and 200-day SMAs using pandas-ta.Signal Generation: Buy signals are generated when the 50-day SMA crosses above the 200-day SMA, and sell signals are generated when the 50-day SMA crosses below the 200-day SMA.Plotting: We plot the closing price and the SMAs as line charts. Buy signals are marked with green triangles, and sell signals are marked with red triangles.As you can see this strategy does not predict the trend well. So you need to consider other ways to generate signals.ConclusionIn this post, I have introduced you to the pandas_ta python library for trading technical analysis to generate technical indicators and buy/sell signals. Algorithmic trading is a very complex field and requires a lot of knowledge regarding not only finance and market analysis, but also programming. You do not want to rely on these simple strategies to'),\n",
              " Document(metadata={'source': 'https://pythonology.eu/using-pandas_ta-to-generate-technical-indicators-and-signals/', 'title': 'Previous'}, page_content='Algorithmic trading is a very complex field and requires a lot of knowledge regarding not only finance and market analysis, but also programming. You do not want to rely on these simple strategies to risk your money! Trading requires knowledge of risk and emotion management. So, this post was just an introduction to how you can start to learn a useful library and hopefully improve your knowledge of algorithmic trading.'),\n",
              " Document(metadata={'source': 'https://pythonology.eu/using-pandas_ta-to-generate-technical-indicators-and-signals/', 'title': 'Previous'}, page_content='vahidI hold a PhD in Applied Linguistics. My passion for natural languages drew me toward NLP and learning Python. Now, I run a Youtube channel called Pythonology.Post navigationPrevious\\nPreviousTinyDB: A Lightweight Python Database for Simple ProjectsNextContinue\\na RAG Web Scraper with LangChain and OllamaSimilar Posts\\n\\nPython Library What is the best Python PDF library?\\n\\nRead More What is the best Python PDF library?Continue\\n \\n\\nPython Library GLOB Module: File Searching in Python\\n\\nRead More GLOB Module: File Searching in PythonContinue\\n \\n\\nPython Library | Python Skills how to use pyDoc to generate documentation in python?\\n\\nRead More how to use pyDoc to generate documentation in python?Continue\\n \\n\\nPython Library | web development Reflex: React With Python!\\n\\nRead More Reflex: React With Python!Continue\\n \\n\\nPython Library | Python Skills Cleaner, More Reliable Python Code with Type Hints in python\\n\\nRead More Cleaner, More Reliable Python Code with Type Hints in pythonContinue'),\n",
              " Document(metadata={'source': 'https://pythonology.eu/using-pandas_ta-to-generate-technical-indicators-and-signals/', 'title': 'Previous'}, page_content='Python Library | Python Skills Cleaner, More Reliable Python Code with Type Hints in python\\n\\nRead More Cleaner, More Reliable Python Code with Type Hints in pythonContinue\\n \\n\\nPython Library | Python Skills | Web Scraping A Beginner’s Guide to Using the LXML Library in Python\\n\\nRead More A Beginner’s Guide to Using the LXML Library in PythonContinue')]"
            ]
          },
          "execution_count": 18,
          "metadata": {},
          "output_type": "execute_result"
        }
      ],
      "source": [
        "splits"
      ]
    }
  ],
  "metadata": {
    "accelerator": "GPU",
    "colab": {
      "gpuType": "T4",
      "provenance": []
    },
    "kernelspec": {
      "display_name": "Python 3",
      "name": "python3"
    },
    "language_info": {
      "name": "python"
    }
  },
  "nbformat": 4,
  "nbformat_minor": 0
}
