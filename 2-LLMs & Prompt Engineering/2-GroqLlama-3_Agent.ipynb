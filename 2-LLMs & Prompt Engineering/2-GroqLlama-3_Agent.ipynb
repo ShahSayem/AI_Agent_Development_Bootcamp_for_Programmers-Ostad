{
  "cells": [
    {
      "cell_type": "code",
      "execution_count": null,
      "metadata": {
        "colab": {
          "base_uri": "https://localhost:8080/",
          "height": 1000
        },
        "collapsed": true,
        "id": "_mHg3My1nQHX",
        "outputId": "b298f171-e7c4-4870-d78f-33a44a2730d3"
      },
      "outputs": [
        {
          "name": "stdout",
          "output_type": "stream",
          "text": [
            "Requirement already satisfied: langchain-groq in c:\\users\\shahs_snohmej\\appdata\\local\\programs\\python\\python312\\lib\\site-packages (0.1.10)\n",
            "Requirement already satisfied: langchain in c:\\users\\shahs_snohmej\\appdata\\local\\programs\\python\\python312\\lib\\site-packages (0.2.0)\n",
            "Requirement already satisfied: langchain-community in c:\\users\\shahs_snohmej\\appdata\\local\\programs\\python\\python312\\lib\\site-packages (0.2.0)\n",
            "Requirement already satisfied: groq<1,>=0.4.1 in c:\\users\\shahs_snohmej\\appdata\\local\\programs\\python\\python312\\lib\\site-packages (from langchain-groq) (0.11.0)\n",
            "Requirement already satisfied: langchain-core<0.3.0,>=0.2.39 in c:\\users\\shahs_snohmej\\appdata\\local\\programs\\python\\python312\\lib\\site-packages (from langchain-groq) (0.2.40)\n",
            "Requirement already satisfied: PyYAML>=5.3 in c:\\users\\shahs_snohmej\\appdata\\local\\programs\\python\\python312\\lib\\site-packages (from langchain) (6.0.1)\n",
            "Requirement already satisfied: SQLAlchemy<3,>=1.4 in c:\\users\\shahs_snohmej\\appdata\\local\\programs\\python\\python312\\lib\\site-packages (from langchain) (2.0.31)\n",
            "Requirement already satisfied: aiohttp<4.0.0,>=3.8.3 in c:\\users\\shahs_snohmej\\appdata\\local\\programs\\python\\python312\\lib\\site-packages (from langchain) (3.10.0)\n",
            "Requirement already satisfied: dataclasses-json<0.7,>=0.5.7 in c:\\users\\shahs_snohmej\\appdata\\local\\programs\\python\\python312\\lib\\site-packages (from langchain) (0.6.7)\n",
            "Requirement already satisfied: langchain-text-splitters<0.3.0,>=0.2.0 in c:\\users\\shahs_snohmej\\appdata\\local\\programs\\python\\python312\\lib\\site-packages (from langchain) (0.2.2)\n",
            "Requirement already satisfied: langsmith<0.2.0,>=0.1.17 in c:\\users\\shahs_snohmej\\appdata\\local\\programs\\python\\python312\\lib\\site-packages (from langchain) (0.1.120)\n",
            "Requirement already satisfied: numpy<2,>=1 in c:\\users\\shahs_snohmej\\appdata\\local\\programs\\python\\python312\\lib\\site-packages (from langchain) (1.26.4)\n",
            "Requirement already satisfied: pydantic<3,>=1 in c:\\users\\shahs_snohmej\\appdata\\local\\programs\\python\\python312\\lib\\site-packages (from langchain) (2.8.2)\n",
            "Requirement already satisfied: requests<3,>=2 in c:\\users\\shahs_snohmej\\appdata\\local\\programs\\python\\python312\\lib\\site-packages (from langchain) (2.32.3)\n",
            "Requirement already satisfied: tenacity<9.0.0,>=8.1.0 in c:\\users\\shahs_snohmej\\appdata\\local\\programs\\python\\python312\\lib\\site-packages (from langchain) (8.5.0)\n",
            "Requirement already satisfied: aiohappyeyeballs>=2.3.0 in c:\\users\\shahs_snohmej\\appdata\\local\\programs\\python\\python312\\lib\\site-packages (from aiohttp<4.0.0,>=3.8.3->langchain) (2.3.4)\n",
            "Requirement already satisfied: aiosignal>=1.1.2 in c:\\users\\shahs_snohmej\\appdata\\local\\programs\\python\\python312\\lib\\site-packages (from aiohttp<4.0.0,>=3.8.3->langchain) (1.3.1)\n",
            "Requirement already satisfied: attrs>=17.3.0 in c:\\users\\shahs_snohmej\\appdata\\local\\programs\\python\\python312\\lib\\site-packages (from aiohttp<4.0.0,>=3.8.3->langchain) (23.2.0)\n",
            "Requirement already satisfied: frozenlist>=1.1.1 in c:\\users\\shahs_snohmej\\appdata\\local\\programs\\python\\python312\\lib\\site-packages (from aiohttp<4.0.0,>=3.8.3->langchain) (1.4.1)\n",
            "Requirement already satisfied: multidict<7.0,>=4.5 in c:\\users\\shahs_snohmej\\appdata\\local\\programs\\python\\python312\\lib\\site-packages (from aiohttp<4.0.0,>=3.8.3->langchain) (6.0.5)\n",
            "Requirement already satisfied: yarl<2.0,>=1.0 in c:\\users\\shahs_snohmej\\appdata\\local\\programs\\python\\python312\\lib\\site-packages (from aiohttp<4.0.0,>=3.8.3->langchain) (1.9.4)\n",
            "Requirement already satisfied: marshmallow<4.0.0,>=3.18.0 in c:\\users\\shahs_snohmej\\appdata\\local\\programs\\python\\python312\\lib\\site-packages (from dataclasses-json<0.7,>=0.5.7->langchain) (3.21.3)\n",
            "Requirement already satisfied: typing-inspect<1,>=0.4.0 in c:\\users\\shahs_snohmej\\appdata\\local\\programs\\python\\python312\\lib\\site-packages (from dataclasses-json<0.7,>=0.5.7->langchain) (0.9.0)\n",
            "Requirement already satisfied: anyio<5,>=3.5.0 in c:\\users\\shahs_snohmej\\appdata\\local\\programs\\python\\python312\\lib\\site-packages (from groq<1,>=0.4.1->langchain-groq) (4.4.0)\n",
            "Requirement already satisfied: distro<2,>=1.7.0 in c:\\users\\shahs_snohmej\\appdata\\local\\programs\\python\\python312\\lib\\site-packages (from groq<1,>=0.4.1->langchain-groq) (1.9.0)\n",
            "Requirement already satisfied: httpx<1,>=0.23.0 in c:\\users\\shahs_snohmej\\appdata\\local\\programs\\python\\python312\\lib\\site-packages (from groq<1,>=0.4.1->langchain-groq) (0.27.0)\n",
            "Requirement already satisfied: sniffio in c:\\users\\shahs_snohmej\\appdata\\local\\programs\\python\\python312\\lib\\site-packages (from groq<1,>=0.4.1->langchain-groq) (1.3.1)\n",
            "Requirement already satisfied: typing-extensions<5,>=4.7 in c:\\users\\shahs_snohmej\\appdata\\local\\programs\\python\\python312\\lib\\site-packages (from groq<1,>=0.4.1->langchain-groq) (4.12.2)\n",
            "Requirement already satisfied: jsonpatch<2.0,>=1.33 in c:\\users\\shahs_snohmej\\appdata\\local\\programs\\python\\python312\\lib\\site-packages (from langchain-core<0.3.0,>=0.2.39->langchain-groq) (1.33)\n",
            "Requirement already satisfied: packaging<25,>=23.2 in c:\\users\\shahs_snohmej\\appdata\\roaming\\python\\python312\\site-packages (from langchain-core<0.3.0,>=0.2.39->langchain-groq) (24.1)\n",
            "Requirement already satisfied: orjson<4.0.0,>=3.9.14 in c:\\users\\shahs_snohmej\\appdata\\local\\programs\\python\\python312\\lib\\site-packages (from langsmith<0.2.0,>=0.1.17->langchain) (3.10.6)\n",
            "Requirement already satisfied: annotated-types>=0.4.0 in c:\\users\\shahs_snohmej\\appdata\\local\\programs\\python\\python312\\lib\\site-packages (from pydantic<3,>=1->langchain) (0.7.0)\n",
            "Requirement already satisfied: pydantic-core==2.20.1 in c:\\users\\shahs_snohmej\\appdata\\local\\programs\\python\\python312\\lib\\site-packages (from pydantic<3,>=1->langchain) (2.20.1)\n",
            "Requirement already satisfied: charset-normalizer<4,>=2 in c:\\users\\shahs_snohmej\\appdata\\local\\programs\\python\\python312\\lib\\site-packages (from requests<3,>=2->langchain) (3.3.2)\n",
            "Requirement already satisfied: idna<4,>=2.5 in c:\\users\\shahs_snohmej\\appdata\\local\\programs\\python\\python312\\lib\\site-packages (from requests<3,>=2->langchain) (3.7)\n",
            "Requirement already satisfied: urllib3<3,>=1.21.1 in c:\\users\\shahs_snohmej\\appdata\\local\\programs\\python\\python312\\lib\\site-packages (from requests<3,>=2->langchain) (2.2.2)\n",
            "Requirement already satisfied: certifi>=2017.4.17 in c:\\users\\shahs_snohmej\\appdata\\local\\programs\\python\\python312\\lib\\site-packages (from requests<3,>=2->langchain) (2024.7.4)\n",
            "Requirement already satisfied: greenlet!=0.4.17 in c:\\users\\shahs_snohmej\\appdata\\local\\programs\\python\\python312\\lib\\site-packages (from SQLAlchemy<3,>=1.4->langchain) (3.0.3)\n",
            "Requirement already satisfied: httpcore==1.* in c:\\users\\shahs_snohmej\\appdata\\local\\programs\\python\\python312\\lib\\site-packages (from httpx<1,>=0.23.0->groq<1,>=0.4.1->langchain-groq) (1.0.5)\n",
            "Requirement already satisfied: h11<0.15,>=0.13 in c:\\users\\shahs_snohmej\\appdata\\local\\programs\\python\\python312\\lib\\site-packages (from httpcore==1.*->httpx<1,>=0.23.0->groq<1,>=0.4.1->langchain-groq) (0.14.0)\n",
            "Requirement already satisfied: jsonpointer>=1.9 in c:\\users\\shahs_snohmej\\appdata\\local\\programs\\python\\python312\\lib\\site-packages (from jsonpatch<2.0,>=1.33->langchain-core<0.3.0,>=0.2.39->langchain-groq) (3.0.0)\n",
            "Requirement already satisfied: mypy-extensions>=0.3.0 in c:\\users\\shahs_snohmej\\appdata\\local\\programs\\python\\python312\\lib\\site-packages (from typing-inspect<1,>=0.4.0->dataclasses-json<0.7,>=0.5.7->langchain) (1.0.0)\n"
          ]
        },
        {
          "name": "stderr",
          "output_type": "stream",
          "text": [
            "\n",
            "[notice] A new release of pip is available: 24.2 -> 25.0.1\n",
            "[notice] To update, run: python.exe -m pip install --upgrade pip\n"
          ]
        }
      ],
      "source": [
        "# Install dependencies if needed\n",
        "%pip install langchain-groq langchain langchain-community\n",
        "\n",
        "from langchain_groq import ChatGroq\n",
        "from langchain.agents import initialize_agent, Tool, AgentType\n",
        "from langchain.memory import ConversationBufferMemory\n",
        "from dotenv import load_dotenv\n",
        "import os"
      ]
    },
    {
      "cell_type": "code",
      "execution_count": 10,
      "metadata": {},
      "outputs": [],
      "source": [
        "# Set your GROQ API key (ensure it's in your environment or securely provided)\n",
        "load_dotenv()\n",
        "os.environ[\"GROQ_API_KEY\"] = os.getenv('groq-apikey')"
      ]
    },
    {
      "cell_type": "code",
      "execution_count": 11,
      "metadata": {},
      "outputs": [],
      "source": [
        "# Book knowledge base\n",
        "BOOK_DATABASE = {\n",
        "    \"mystery\": \"The Hound of the Baskervilles by Arthur Conan Doyle, 200 pages, classic detective story.\",\n",
        "    \"sci-fi\": \"Dune by Frank Herbert, 500 pages, epic space adventure.\",\n",
        "    \"romance\": \"Pride and Prejudice by Jane Austen, 300 pages, timeless love story.\"\n",
        "}\n",
        "\n",
        "# Tool function: book lookup\n",
        "def book_database(query: str) -> str:\n",
        "    for genre, info in BOOK_DATABASE.items():\n",
        "        if genre in query.lower():\n",
        "            return info\n",
        "    return \"No matching books found, but I can suggest something else!\"\n",
        "\n",
        "# Tool function: reading time calculator\n",
        "def reading_time_calculator(pages: str) -> str:\n",
        "    try:\n",
        "        pages = int(pages)\n",
        "        speed = 50  # pages per hour\n",
        "        hours = pages / speed\n",
        "        return f\"It takes about {hours:.1f} hours to read {pages} pages at {speed} pages/hour.\"\n",
        "    except:\n",
        "        return \"Error: Invalid input for calculation.\"\n",
        "\n",
        "# Define tools\n",
        "tools = [\n",
        "    Tool(\n",
        "        name=\"Book_Database\",\n",
        "        func=book_database,\n",
        "        description=\"Use for book recommendations by genre or details.\"\n",
        "    ),\n",
        "    Tool(\n",
        "        name=\"Reading_Time_Calculator\",\n",
        "        func=reading_time_calculator,\n",
        "        description=\"Calculate reading time based on page count.\"\n",
        "    )\n",
        "]"
      ]
    },
    {
      "cell_type": "code",
      "execution_count": 12,
      "metadata": {},
      "outputs": [
        {
          "name": "stderr",
          "output_type": "stream",
          "text": [
            "C:\\Users\\shahs_snohmej\\AppData\\Local\\Temp\\ipykernel_27080\\11622406.py:8: LangChainDeprecationWarning: The function `initialize_agent` was deprecated in LangChain 0.1.0 and will be removed in 0.3.0. Use Use new agent constructor methods like create_react_agent, create_json_agent, create_structured_chat_agent, etc. instead.\n",
            "  agent = initialize_agent(\n"
          ]
        }
      ],
      "source": [
        "# Use Groq llama-3.1-8b-instant as the LLM\n",
        "llm = ChatGroq(model_name=\"llama-3.1-8b-instant\", temperature=0.7)\n",
        "\n",
        "# Add memory\n",
        "memory = ConversationBufferMemory(memory_key=\"chat_history\")\n",
        "\n",
        "# Initialize the agent\n",
        "agent = initialize_agent(\n",
        "    tools=tools,\n",
        "    llm=llm,\n",
        "    agent=AgentType.CONVERSATIONAL_REACT_DESCRIPTION,\n",
        "    memory=memory,\n",
        "    verbose=True\n",
        ")"
      ]
    },
    {
      "cell_type": "code",
      "execution_count": 13,
      "metadata": {
        "colab": {
          "base_uri": "https://localhost:8080/"
        },
        "id": "RCM_EP4Fl1xw",
        "outputId": "9ce91e69-e147-4ad6-daec-c1e410db2d21"
      },
      "outputs": [
        {
          "name": "stderr",
          "output_type": "stream",
          "text": [
            "C:\\Users\\shahs_snohmej\\AppData\\Local\\Temp\\ipykernel_27080\\3726430571.py:3: LangChainDeprecationWarning: The method `Chain.run` was deprecated in langchain 0.1.0 and will be removed in 0.3.0. Use invoke instead.\n",
            "  response1 = agent.run(f\"As a friendly librarian, answer: {query1}\")\n"
          ]
        },
        {
          "name": "stdout",
          "output_type": "stream",
          "text": [
            "\n",
            "\n",
            "\u001b[1m> Entering new AgentExecutor chain...\u001b[0m\n",
            "\u001b[32;1m\u001b[1;3mThought: Do I need to use a tool? Yes\n",
            "Action: Book_Database\n",
            "Action Input: mystery book\u001b[0m\n",
            "Observation: \u001b[36;1m\u001b[1;3mThe Hound of the Baskervilles by Arthur Conan Doyle, 200 pages, classic detective story.\u001b[0m\n",
            "Thought:\u001b[32;1m\u001b[1;3mThought: Do I need to use a tool? No\n",
            "AI: Ah, an excellent choice! The Hound of the Baskervilles is indeed a classic mystery novel that has captivated readers for generations. Written by the iconic Sir Arthur Conan Doyle, it's a must-read for anyone who loves a good whodunit. The story follows Sherlock Holmes as he investigates the mysterious death on a remote English moor, and it's a testament to Doyle's masterful storytelling that the plot is still engaging and suspenseful even after all these years. Would you like more information about the book or perhaps another recommendation?\u001b[0m\n",
            "\n",
            "\u001b[1m> Finished chain.\u001b[0m\n",
            "\n",
            "Q: Suggest a mystery book\n",
            "A: Ah, an excellent choice! The Hound of the Baskervilles is indeed a classic mystery novel that has captivated readers for generations. Written by the iconic Sir Arthur Conan Doyle, it's a must-read for anyone who loves a good whodunit. The story follows Sherlock Holmes as he investigates the mysterious death on a remote English moor, and it's a testament to Doyle's masterful storytelling that the plot is still engaging and suspenseful even after all these years. Would you like more information about the book or perhaps another recommendation?\n",
            "\n",
            "\n",
            "\u001b[1m> Entering new AgentExecutor chain...\u001b[0m\n",
            "\u001b[32;1m\u001b[1;3mThought: Do I need to use a tool? Yes\n",
            "Action: Reading_Time_Calculator\n",
            "Action Input: page count of \"The Hound of the Baskervilles\" (approximately 272 pages)\u001b[0m\n",
            "Observation: \u001b[33;1m\u001b[1;3mError: Invalid input for calculation.\u001b[0m\n",
            "Thought:\u001b[32;1m\u001b[1;3mThought: Do I need to use a tool? Yes\n",
            "Action: Book_Database\n",
            "Action Input: \"The Hound of the Baskervilles\" page count\u001b[0m\n",
            "Observation: \u001b[36;1m\u001b[1;3mNo matching books found, but I can suggest something else!\u001b[0m\n",
            "Thought:\u001b[32;1m\u001b[1;3mThought: Do I need to use a tool? Yes\n",
            "Action: Book_Database\n",
            "Action Input: \"The Hound of the Baskervilles\"\u001b[0m\n",
            "Observation: \u001b[36;1m\u001b[1;3mNo matching books found, but I can suggest something else!\u001b[0m\n",
            "Thought:\u001b[32;1m\u001b[1;3mThought: Do I need to use a tool? No\n",
            "AI: It seems that I'm unable to find the page count of \"The Hound of the Baskervilles\" in my database. However, I can suggest an alternative way to find the reading time. Could you please provide me with the page count, and I'll be happy to assist you with calculating the reading time using the Reading Time Calculator tool?\n",
            "\n",
            "Please provide the page count of \"The Hound of the Baskervilles\".\u001b[0m\n",
            "\n",
            "\u001b[1m> Finished chain.\u001b[0m\n",
            "\n",
            "Q: How long would it take to read it?\n",
            "A: It seems that I'm unable to find the page count of \"The Hound of the Baskervilles\" in my database. However, I can suggest an alternative way to find the reading time. Could you please provide me with the page count, and I'll be happy to assist you with calculating the reading time using the Reading Time Calculator tool?\n",
            "\n",
            "Please provide the page count of \"The Hound of the Baskervilles\".\n"
          ]
        }
      ],
      "source": [
        "# Test the agent\n",
        "query1 = \"Suggest a mystery book\"\n",
        "response1 = agent.run(f\"As a friendly librarian, answer: {query1}\")\n",
        "print(f\"\\nQ: {query1}\\nA: {response1}\")\n",
        "\n",
        "query2 = \"How long would it take to read it?\"\n",
        "response2 = agent.run(f\"As a friendly librarian, answer: {query2}\")\n",
        "print(f\"\\nQ: {query2}\\nA: {response2}\")"
      ]
    }
  ],
  "metadata": {
    "colab": {
      "provenance": []
    },
    "kernelspec": {
      "display_name": "Python 3",
      "name": "python3"
    },
    "language_info": {
      "codemirror_mode": {
        "name": "ipython",
        "version": 3
      },
      "file_extension": ".py",
      "mimetype": "text/x-python",
      "name": "python",
      "nbconvert_exporter": "python",
      "pygments_lexer": "ipython3",
      "version": "3.12.1"
    }
  },
  "nbformat": 4,
  "nbformat_minor": 0
}
