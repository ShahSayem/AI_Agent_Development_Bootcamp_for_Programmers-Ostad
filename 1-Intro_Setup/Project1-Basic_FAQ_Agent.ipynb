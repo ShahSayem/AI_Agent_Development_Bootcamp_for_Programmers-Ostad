{
  "cells": [
    {
      "cell_type": "code",
      "execution_count": null,
      "metadata": {
        "colab": {
          "base_uri": "https://localhost:8080/"
        },
        "collapsed": true,
        "id": "aMy_60H9l6dd",
        "outputId": "74701493-c46c-4b41-a73f-cba0409e3031"
      },
      "outputs": [],
      "source": [
        "!pip install openai langchain langchain-community langchain-core"
      ]
    },
    {
      "cell_type": "code",
      "execution_count": null,
      "metadata": {
        "colab": {
          "base_uri": "https://localhost:8080/"
        },
        "collapsed": true,
        "id": "6QdZnK4fQ-MQ",
        "outputId": "f1311c32-b158-4eaa-c602-82ae7cc474d4"
      },
      "outputs": [],
      "source": [
        "!pip install langchain-groq"
      ]
    },
    {
      "cell_type": "code",
      "execution_count": 4,
      "metadata": {
        "id": "OMgRh6AUeU-6"
      },
      "outputs": [],
      "source": [
        "from google.colab import userdata\n",
        "# userdata.get('groq-apikey')"
      ]
    },
    {
      "cell_type": "code",
      "execution_count": null,
      "metadata": {
        "colab": {
          "base_uri": "https://localhost:8080/"
        },
        "id": "HgE7tjDgla-U",
        "outputId": "bb1b9004-92fc-4d70-b035-bf028089c294"
      },
      "outputs": [
        {
          "name": "stdout",
          "output_type": "stream",
          "text": [
            "Welcome to the AI FAQ Chatbot! Ask me about Bangladesh. Type 'exit' to stop.\n",
            "You: Hello\n",
            "Bot: Hello. If you have any questions about Bangladesh, I'll do my best to provide you with accurate information.\n",
            "\n",
            "You asked: (no question provided)\n",
            "\n",
            "Please go ahead and ask your question about Bangladesh.\n",
            "You: What is Bangladesh famous for?\n",
            "Bot: Bangladesh is famous for its natural beauty, Sundarbans mangrove forest (home to the Royal Bengal Tiger), textile industry, and rich cultural heritage.\n",
            "You: What is the capital of Bangladesh?\n",
            "Bot: The capital of Bangladesh is Dhaka, which is the largest city and the political, cultural, and economic hub of the country.\n",
            "You: What is the national language of Bangladesh?\n",
            "Bot: The national language of Bangladesh is Bengali (Bangla), spoken by the majority of the population.\n",
            "You: What is the national anthem of Bangladesh?\n",
            "Bot: The question 'What is the national anthem of Bangladesh?' is not present in the provided FAQ data. However, I can answer it based on my general knowledge.\n",
            "\n",
            "The national anthem of Bangladesh is 'Amar Shonar Bangla' (My Golden Bengal), which was adopted in 1972. It was written by Rabindranath Tagore, a renowned Bengali poet and Nobel laureate. The anthem is a symbol of Bangladesh's national identity and pride, and it is sung on various occasions, including national holidays and official events.\n",
            "You: When did Bangladesh gain independence?\n",
            "Bot: Bangladesh gained independence from Pakistan on March 26, 1971, following the Liberation War, which ended on December 16, 1971.\n",
            "You: exit\n",
            "Goodbye!\n"
          ]
        }
      ],
      "source": [
        "# Import necessary libraries\n",
        "from langchain_groq import ChatGroq\n",
        "from langchain.prompts import PromptTemplate\n",
        "from langchain.chains import LLMChain\n",
        "from dotenv import load_dotenv\n",
        "\n",
        "# Set up OpenAI API key\n",
        "import os\n",
        "load_dotenv()\n",
        "os.environ[\"GROQ_API_KEY\"] = os.getenv('groq-apikey')\n",
        "\n",
        "# Sample FAQ data on Bangladesh\n",
        "faq_data = [\n",
        "    {\"question\": \"What is the capital of Bangladesh?\", \"answer\": \"The capital of Bangladesh is Dhaka, which is the largest city and the political, cultural, and economic hub of the country.\"},\n",
        "    {\"question\": \"What is the national language of Bangladesh?\", \"answer\": \"The national language of Bangladesh is Bengali (Bangla), spoken by the majority of the population.\"},\n",
        "    {\"question\": \"What are the major rivers in Bangladesh?\", \"answer\": \"The major rivers in Bangladesh include the Padma, Jamuna, and Meghna, which play a crucial role in agriculture and transportation.\"},\n",
        "    {\"question\": \"What is Bangladesh famous for?\", \"answer\": \"Bangladesh is famous for its natural beauty, Sundarbans mangrove forest (home to the Royal Bengal Tiger), textile industry, and rich cultural heritage.\"},\n",
        "    {\"question\": \"When did Bangladesh gain independence?\", \"answer\": \"Bangladesh gained independence from Pakistan on March 26, 1971, following the Liberation War, which ended on December 16, 1971.\"}\n",
        "]\n",
        "\n",
        "# Initialize the \"llama-3.1-8b-instant\" model\n",
        "chat_model = ChatGroq(model=\"llama-3.1-8b-instant\", temperature=0.7)\n",
        "\n",
        "# Template for chatbot responses\n",
        "faq_template = PromptTemplate(\n",
        "    input_variables=[\"question\"],\n",
        "    template=\"You are an AI chatbot. Answer this question based on the provided FAQ data:\\n{faq_data}\\nQuestion: {question}. If the question is not present in the faq_data, answer by yourself.\"\n",
        ")\n",
        "\n",
        "# Chain for handling chatbot interactions\n",
        "faq_chain = LLMChain(\n",
        "    prompt=faq_template,\n",
        "    llm=chat_model\n",
        ")\n",
        "\n",
        "# Function to handle user queries\n",
        "def chatbot():\n",
        "    print(\"Welcome to the AI FAQ Chatbot! Ask me about Bangladesh. Type 'exit' to stop.\")\n",
        "    while True:\n",
        "        user_input = input(\"You: \")\n",
        "        if user_input.lower() == 'exit':\n",
        "            print(\"Goodbye!\")\n",
        "            break\n",
        "\n",
        "        response = faq_chain.run({\"question\": user_input, \"faq_data\": faq_data})\n",
        "        print(\"Bot:\", response)\n",
        "\n",
        "chatbot()"
      ]
    }
  ],
  "metadata": {
    "colab": {
      "provenance": []
    },
    "kernelspec": {
      "display_name": "Python 3",
      "name": "python3"
    },
    "language_info": {
      "name": "python",
      "version": "3.12.1"
    }
  },
  "nbformat": 4,
  "nbformat_minor": 0
}
