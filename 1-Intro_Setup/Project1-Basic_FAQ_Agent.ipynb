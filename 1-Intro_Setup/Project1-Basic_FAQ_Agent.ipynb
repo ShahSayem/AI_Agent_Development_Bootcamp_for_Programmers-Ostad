{
  "cells": [
    {
      "cell_type": "code",
      "execution_count": null,
      "metadata": {
        "colab": {
          "base_uri": "https://localhost:8080/"
        },
        "id": "aMy_60H9l6dd",
        "outputId": "45ae5be9-11b6-4893-ba7c-88c16536c249"
      },
      "outputs": [],
      "source": [
        "%pip install openai langchain langchain-community langchain-core"
      ]
    },
    {
      "cell_type": "code",
      "execution_count": 3,
      "metadata": {
        "colab": {
          "base_uri": "https://localhost:8080/",
          "height": 35
        },
        "id": "OMgRh6AUeU-6",
        "outputId": "6b55d941-a9af-46a5-c53e-34d7e923ffea"
      },
      "outputs": [],
      "source": [
        "# from google.colab import userdata\n",
        "# userdata.get('openai-apikey')"
      ]
    },
    {
      "cell_type": "code",
      "execution_count": 4,
      "metadata": {},
      "outputs": [],
      "source": [
        "from dotenv import load_dotenv"
      ]
    },
    {
      "cell_type": "code",
      "execution_count": null,
      "metadata": {
        "colab": {
          "base_uri": "https://localhost:8080/",
          "height": 121
        },
        "id": "HgE7tjDgla-U",
        "outputId": "5dbdc264-9294-4539-ca20-644fa24f84d8"
      },
      "outputs": [],
      "source": [
        "# Import necessary libraries\n",
        "import openai\n",
        "from langchain.chat_models import ChatOpenAI\n",
        "from langchain.prompts import PromptTemplate\n",
        "from langchain.chains import LLMChain\n",
        "\n",
        "# Set up OpenAI API key\n",
        "import os\n",
        "# os.environ[\"OPENAI_API_KEY\"] = userdata.get('openai-apikey') \n",
        "load_dotenv()\n",
        "os.environ[\"OPENAI_API_KEY\"] = os.getenv('openai-apikey')\n",
        "\n",
        "# Sample FAQ data on Bangladesh\n",
        "faq_data = [\n",
        "    {\"question\": \"What is the capital of Bangladesh?\", \"answer\": \"The capital of Bangladesh is Dhaka, which is the largest city and the political, cultural, and economic hub of the country.\"},\n",
        "    {\"question\": \"What is the national language of Bangladesh?\", \"answer\": \"The national language of Bangladesh is Bengali (Bangla), spoken by the majority of the population.\"},\n",
        "    {\"question\": \"What are the major rivers in Bangladesh?\", \"answer\": \"The major rivers in Bangladesh include the Padma, Jamuna, and Meghna, which play a crucial role in agriculture and transportation.\"},\n",
        "    {\"question\": \"What is Bangladesh famous for?\", \"answer\": \"Bangladesh is famous for its natural beauty, Sundarbans mangrove forest (home to the Royal Bengal Tiger), textile industry, and rich cultural heritage.\"},\n",
        "    {\"question\": \"When did Bangladesh gain independence?\", \"answer\": \"Bangladesh gained independence from Pakistan on March 26, 1971, following the Liberation War, which ended on December 16, 1971.\"}\n",
        "]\n",
        "\n",
        "\n",
        "# Initialize the GPT-4o mini model\n",
        "chat_model = ChatOpenAI(model=\"gpt-4o-mini\", temperature=0.7)\n",
        "\n",
        "# Template for chatbot responses\n",
        "faq_template = PromptTemplate(\n",
        "    input_variables=[\"question\"],\n",
        "    template=\"You are an AI chatbot. Answer this question based on the provided FAQ data:\\n{faq_data}\\nQuestion: {question}\"\n",
        ")\n",
        "\n",
        "# Chain for handling chatbot interactions\n",
        "faq_chain = LLMChain(\n",
        "    prompt=faq_template,\n",
        "    llm=chat_model\n",
        ")\n",
        "\n",
        "# Function to handle user queries\n",
        "def chatbot():\n",
        "    print(\"Welcome to the AI FAQ Chatbot! Ask me about Bangladesh. Type 'exit' to stop.\")\n",
        "    while True:\n",
        "        user_input = input(\"Ask here: \")\n",
        "        if user_input.lower() == 'exit':\n",
        "            print(\"Goodbye!\")\n",
        "            break\n",
        "        response = faq_chain.run({\"question\": user_input, \"faq_data\": faq_data})\n",
        "        print(\"Bot:\", response)\n",
        "\n",
        "chatbot()"
      ]
    }
  ],
  "metadata": {
    "colab": {
      "provenance": []
    },
    "kernelspec": {
      "display_name": "Python 3",
      "name": "python3"
    },
    "language_info": {
      "codemirror_mode": {
        "name": "ipython",
        "version": 3
      },
      "file_extension": ".py",
      "mimetype": "text/x-python",
      "name": "python",
      "nbconvert_exporter": "python",
      "pygments_lexer": "ipython3",
      "version": "3.12.1"
    }
  },
  "nbformat": 4,
  "nbformat_minor": 0
}
