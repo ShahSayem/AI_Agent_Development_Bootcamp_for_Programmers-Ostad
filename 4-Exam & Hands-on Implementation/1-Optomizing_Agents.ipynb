{
  "cells": [
    {
      "cell_type": "code",
      "execution_count": null,
      "metadata": {
        "colab": {
          "base_uri": "https://localhost:8080/"
        },
        "collapsed": true,
        "id": "n4dHeJNEWqr4",
        "outputId": "13e53aa2-dd6a-4694-8ef6-633bfd654423"
      },
      "outputs": [],
      "source": [
        "!curl -fsSL https://ollama.com/install.sh | sh\n",
        "!nohup ollama serve > output.log 2>&1 &\n",
        "!ollama pull phi4"
      ]
    },
    {
      "cell_type": "code",
      "execution_count": null,
      "metadata": {
        "colab": {
          "base_uri": "https://localhost:8080/"
        },
        "collapsed": true,
        "id": "1oBgXmm-d9ck",
        "outputId": "6b1af4d1-050b-45d8-ef48-b95ebd450d70"
      },
      "outputs": [],
      "source": [
        "!pip install ollama torch pynvml"
      ]
    },
    {
      "cell_type": "code",
      "execution_count": null,
      "metadata": {
        "id": "HKLMHhFZeBPV"
      },
      "outputs": [],
      "source": [
        "import ollama\n",
        "import time\n",
        "import psutil\n",
        "import torch\n",
        "import pynvml\n",
        "from typing import Dict\n",
        "\n",
        "def ollama_chat(model, prompt):\n",
        "    response = ollama.chat(\n",
        "        model=model,\n",
        "        messages=[{'role': 'user', 'content': prompt}]\n",
        "    )\n",
        "    return response['message']['content'], {\n",
        "        \"total_tokens\": len(response['message']['content'].split())  # rough token estimate\n",
        "    }\n",
        "\n",
        "\n",
        "def track_agent_run(agent_fn, input):\n",
        "    start_time = time.time()\n",
        "    print(f\"After Start Memory Useage: {get_memory_usage_mb()} MB, BY AGENT {agent_fn.__name__}\")\n",
        "    response, metadata = agent_fn(**input)\n",
        "    print(f\"After End Memory Useage: {get_memory_usage_mb()} MB, BY AGENT {agent_fn.__name__}\")\n",
        "    end_time = time.time()\n",
        "\n",
        "    elapsed_time = end_time - start_time\n",
        "    tokens_used = metadata.get('total_tokens', estimate_tokens(response))\n",
        "\n",
        "    print(f\"--- Run Stats ---\")\n",
        "    print(f\"Time taken: {elapsed_time:.2f} seconds\")\n",
        "    print(f\"Tokens used: {tokens_used}\")\n",
        "    print(f\"Response: {response}\")\n",
        "    print(f\"-----------------\\n\")\n",
        "    return response\n",
        "\n",
        "def estimate_tokens(text):\n",
        "    words = len(text.split())\n",
        "    return int(words * 1.3)  # Approximate: avg 1.3 tokens per word\n",
        "\n",
        "def get_memory_usage_mb() -> Dict[str, float]:\n",
        "    # CPU memory for the current process\n",
        "    process = psutil.Process()\n",
        "    cpu_memory_mb = process.memory_info().rss / (1024 * 1024)  # in MB\n",
        "\n",
        "    # CPU usage (%)\n",
        "    cpu_usage_percent = psutil.cpu_percent(interval=0.1)\n",
        "\n",
        "    # GPU memory and usage\n",
        "    gpu_memory_mb = 0.0\n",
        "    gpu_usage_percent = 0.0\n",
        "    gpu_total_memory_mb = 0.0\n",
        "\n",
        "    if torch.cuda.is_available():\n",
        "        try:\n",
        "            # Initialize NVIDIA Management Library\n",
        "            pynvml.nvmlInit()\n",
        "            device_count = pynvml.nvmlDeviceGetCount()\n",
        "\n",
        "            if device_count > 0:\n",
        "                # Get handle for the first GPU\n",
        "                handle = pynvml.nvmlDeviceGetHandleByIndex(0)\n",
        "                mem_info = pynvml.nvmlDeviceGetMemoryInfo(handle)\n",
        "\n",
        "                # Total and used memory in MB\n",
        "                gpu_total_memory_mb = mem_info.total / (1024 * 1024)\n",
        "                gpu_used_memory_mb = mem_info.used / (1024 * 1024)\n",
        "\n",
        "                # Memory used by this process (if possible)\n",
        "                gpu_memory_mb = torch.cuda.memory_allocated() / (1024 * 1024)  # PyTorch-specific\n",
        "                gpu_usage_percent = (gpu_used_memory_mb / gpu_total_memory_mb) * 100 if gpu_total_memory_mb > 0 else 0.0\n",
        "\n",
        "                # Optionally, get process-specific GPU memory (requires elevated permissions)\n",
        "                try:\n",
        "                    processes = pynvml.nvmlDeviceGetComputeRunningProcesses(handle)\n",
        "                    for proc in processes:\n",
        "                        if proc.pid == process.pid:\n",
        "                            gpu_memory_mb = proc.usedGpuMemory / (1024 * 1024)\n",
        "                            gpu_usage_percent = (gpu_memory_mb / gpu_total_memory_mb) * 100\n",
        "                            break\n",
        "                except pynvml.NVMLError:\n",
        "                    pass  # Skip if permission denied or not supported\n",
        "\n",
        "            pynvml.nvmlShutdown()\n",
        "        except Exception as e:\n",
        "            print(f\"Error accessing GPU info: {e}\")\n",
        "    else:\n",
        "        print(\"CUDA is not available. No GPU detected.\")\n",
        "\n",
        "    return {\n",
        "        \"cpu_memory_mb\": round(cpu_memory_mb, 2),\n",
        "        \"cpu_usage_percent\": round(cpu_usage_percent, 2),\n",
        "        \"gpu_memory_mb\": round(gpu_memory_mb, 2),\n",
        "        \"gpu_usage_percent\": round(gpu_usage_percent, 2),\n",
        "        \"gpu_total_memory_mb\": round(gpu_total_memory_mb, 2)\n",
        "    }\n",
        "\n",
        "def run_agent(agent_fn, input_text):\n",
        "    start_time = time.time()\n",
        "    print(f\"After Start Memory Useage: {get_memory_usage_mb()} MB, BY AGENT {agent_fn.__name__}\")\n",
        "    response, metadata = agent_fn(input_text)\n",
        "    print(f\"After End Memory Useage: {get_memory_usage_mb()} MB, BY AGENT {agent_fn.__name__}\")\n",
        "    end_time = time.time()\n",
        "\n",
        "    elapsed_time = end_time - start_time\n",
        "    tokens_used = metadata.get('total_tokens', estimate_tokens(response))\n",
        "\n",
        "\n",
        "    return {\n",
        "        \"response\": response,\n",
        "        \"time\": elapsed_time,\n",
        "        \"tokens\": tokens_used\n",
        "    }\n",
        "\n",
        "def compare_agents(unoptimized_fn, optimized_fn, input_text, title=\"Optimization Comparison\"):\n",
        "    print(f\"\\n===== {title} =====\")\n",
        "    print(f\"Input: {input_text}\\n\")\n",
        "\n",
        "    print(\"🔴 Running Unoptimized Version...\")\n",
        "    unopt = run_agent(unoptimized_fn, input_text)\n",
        "\n",
        "    print(\"\\n🟢 Running Optimized Version...\")\n",
        "    opt = run_agent(optimized_fn, input_text)\n",
        "\n",
        "    print(\"\\n🔎 Results Comparison:\")\n",
        "    print(f\"{'Metric':<20}{'Unoptimized':<20}{'Optimized'}\")\n",
        "    print(f\"{'-'*60}\")\n",
        "    print(f\"{'Time (s)':<20}{unopt['time']:.2f}{' ':<15}{opt['time']:.2f}\")\n",
        "    print(f\"{'Tokens Used':<20}{unopt['tokens']:<20}{opt['tokens']}\")\n",
        "    print(f\"{'Response':<20}{unopt['response'][:50]}{'...':<5}{opt['response'][:50]}...\")\n",
        "    print(\"=\"*60 + \"\\n\")\n",
        "\n",
        "    print(f\"{'Response full Unoptimized:'} {unopt['response']}\\n {'Response full Optimized:'} {opt['response']}\")"
      ]
    },
    {
      "cell_type": "markdown",
      "metadata": {
        "id": "sH4SRsIkcz2U"
      },
      "source": [
        "# What Can Be Optimized?\n",
        "- Prompt Clarity\n",
        "\n",
        "- Input Size Management\n",
        "\n",
        "- Context Window Usage\n",
        "\n",
        "- Output Format Control\n",
        "\n",
        "- Memory and State Management\n",
        "\n",
        "- Function Calling Efficiency\n",
        "\n",
        "- Fallback Strategies\n",
        "\n",
        "- System Instruction Tuning\n",
        "\n",
        "- Latency Reduction (early stopping, fast models)"
      ]
    },
    {
      "cell_type": "markdown",
      "metadata": {
        "id": "588ypBdOdEtj"
      },
      "source": [
        "# Optimization 1: Prompt Clarity"
      ]
    },
    {
      "cell_type": "code",
      "execution_count": null,
      "metadata": {
        "colab": {
          "base_uri": "https://localhost:8080/"
        },
        "id": "ODOUfnm9cykT",
        "outputId": "8a42b965-f9e9-4146-8182-2cb557919c49"
      },
      "outputs": [
        {
          "name": "stdout",
          "output_type": "stream",
          "text": [
            "\n",
            "===== Optimization 1: Prompt Clarity =====\n",
            "Input: Weather Paris?\n",
            "\n",
            "🔴 Running Unoptimized Version...\n",
            "After Start Memory Useage: {'cpu_memory_mb': 595.05, 'cpu_usage_percent': 0.0, 'gpu_memory_mb': 0.0, 'gpu_usage_percent': 1.74, 'gpu_total_memory_mb': 15360.0} MB, BY AGENT agent_unoptimized\n",
            "> \u001b[0;32m<ipython-input-17-084759f1b3a2>\u001b[0m(8)\u001b[0;36magent_optimized\u001b[0;34m()\u001b[0m\n",
            "\u001b[0;32m      6 \u001b[0;31m    \u001b[0mprompt\u001b[0m \u001b[0;34m=\u001b[0m \u001b[0;34mf\"{input_text}\"\u001b[0m\u001b[0;34m\u001b[0m\u001b[0;34m\u001b[0m\u001b[0m\n",
            "\u001b[0m\u001b[0;32m      7 \u001b[0;31m    \u001b[0mresult\u001b[0m \u001b[0;34m=\u001b[0m \u001b[0mollama_chat\u001b[0m\u001b[0;34m(\u001b[0m\u001b[0mmodel\u001b[0m\u001b[0;34m=\u001b[0m\u001b[0;34m\"phi4\"\u001b[0m\u001b[0;34m,\u001b[0m \u001b[0mprompt\u001b[0m\u001b[0;34m=\u001b[0m\u001b[0mprompt\u001b[0m\u001b[0;34m)\u001b[0m\u001b[0;34m\u001b[0m\u001b[0;34m\u001b[0m\u001b[0m\n",
            "\u001b[0m\u001b[0;32m----> 8 \u001b[0;31m    \u001b[0;32mif\u001b[0m \u001b[0;32mnot\u001b[0m \u001b[0mresult\u001b[0m\u001b[0;34m.\u001b[0m\u001b[0mstrip\u001b[0m\u001b[0;34m(\u001b[0m\u001b[0;34m)\u001b[0m\u001b[0;34m:\u001b[0m\u001b[0;34m\u001b[0m\u001b[0;34m\u001b[0m\u001b[0m\n",
            "\u001b[0m\u001b[0;32m      9 \u001b[0;31m        \u001b[0;31m# fallback prompt\u001b[0m\u001b[0;34m\u001b[0m\u001b[0;34m\u001b[0m\u001b[0m\n",
            "\u001b[0m\u001b[0;32m     10 \u001b[0;31m        \u001b[0mprompt2\u001b[0m \u001b[0;34m=\u001b[0m \u001b[0;34mf\"Retry: {input_text}. Be concise.\"\u001b[0m\u001b[0;34m\u001b[0m\u001b[0;34m\u001b[0m\u001b[0m\n",
            "\u001b[0m\n",
            "ipdb> prompt\n",
            "'I dont have a yellow pen. Now give me my yellow pen.'\n",
            "ipdb> exit\n"
          ]
        },
        {
          "name": "stderr",
          "output_type": "stream",
          "text": [
            "\n",
            "PYDEV DEBUGGER WARNING:\n",
            "sys.settrace() should not be used when the debugger is being used.\n",
            "This may cause the debugger to stop working correctly.\n",
            "If this is needed, please check: \n",
            "http://pydev.blogspot.com/2007/06/why-cant-pydev-debugger-work-with.html\n",
            "to see how to restore the debug tracing back correctly.\n",
            "Call Location:\n",
            "  File \"/usr/lib/python3.11/bdb.py\", line 361, in set_quit\n",
            "    sys.settrace(None)\n",
            "\n"
          ]
        },
        {
          "name": "stdout",
          "output_type": "stream",
          "text": [
            "After End Memory Useage: {'cpu_memory_mb': 595.49, 'cpu_usage_percent': 0.0, 'gpu_memory_mb': 0.0, 'gpu_usage_percent': 71.94, 'gpu_total_memory_mb': 15360.0} MB, BY AGENT agent_unoptimized\n",
            "\n",
            "🟢 Running Optimized Version...\n",
            "After Start Memory Useage: {'cpu_memory_mb': 595.49, 'cpu_usage_percent': 0.0, 'gpu_memory_mb': 0.0, 'gpu_usage_percent': 71.94, 'gpu_total_memory_mb': 15360.0} MB, BY AGENT agent_optimized\n",
            "> \u001b[0;32m<ipython-input-17-084759f1b3a2>\u001b[0m(8)\u001b[0;36magent_optimized\u001b[0;34m()\u001b[0m\n",
            "\u001b[0;32m      6 \u001b[0;31m    \u001b[0mprompt\u001b[0m \u001b[0;34m=\u001b[0m \u001b[0;34mf\"{input_text}\"\u001b[0m\u001b[0;34m\u001b[0m\u001b[0;34m\u001b[0m\u001b[0m\n",
            "\u001b[0m\u001b[0;32m      7 \u001b[0;31m    \u001b[0mresult\u001b[0m \u001b[0;34m=\u001b[0m \u001b[0mollama_chat\u001b[0m\u001b[0;34m(\u001b[0m\u001b[0mmodel\u001b[0m\u001b[0;34m=\u001b[0m\u001b[0;34m\"phi4\"\u001b[0m\u001b[0;34m,\u001b[0m \u001b[0mprompt\u001b[0m\u001b[0;34m=\u001b[0m\u001b[0mprompt\u001b[0m\u001b[0;34m)\u001b[0m\u001b[0;34m\u001b[0m\u001b[0;34m\u001b[0m\u001b[0m\n",
            "\u001b[0m\u001b[0;32m----> 8 \u001b[0;31m    \u001b[0;32mif\u001b[0m \u001b[0;32mnot\u001b[0m \u001b[0mresult\u001b[0m\u001b[0;34m.\u001b[0m\u001b[0mstrip\u001b[0m\u001b[0;34m(\u001b[0m\u001b[0;34m)\u001b[0m\u001b[0;34m:\u001b[0m\u001b[0;34m\u001b[0m\u001b[0;34m\u001b[0m\u001b[0m\n",
            "\u001b[0m\u001b[0;32m      9 \u001b[0;31m        \u001b[0;31m# fallback prompt\u001b[0m\u001b[0;34m\u001b[0m\u001b[0;34m\u001b[0m\u001b[0m\n",
            "\u001b[0m\u001b[0;32m     10 \u001b[0;31m        \u001b[0mprompt2\u001b[0m \u001b[0;34m=\u001b[0m \u001b[0;34mf\"Retry: {input_text}. Be concise.\"\u001b[0m\u001b[0;34m\u001b[0m\u001b[0;34m\u001b[0m\u001b[0m\n",
            "\u001b[0m\n",
            "ipdb> exit\n",
            "After End Memory Useage: {'cpu_memory_mb': 595.49, 'cpu_usage_percent': 0.0, 'gpu_memory_mb': 0.0, 'gpu_usage_percent': 71.94, 'gpu_total_memory_mb': 15360.0} MB, BY AGENT agent_optimized\n",
            "\n",
            "🔎 Results Comparison:\n",
            "Metric              Unoptimized         Optimized\n",
            "------------------------------------------------------------\n",
            "Time (s)            95.61               20.78\n",
            "Tokens Used         139                 10\n",
            "Response            To find out the current weather in Paris, you can ...  The current weather in Paris is 18°C with clear sk...\n",
            "============================================================\n",
            "\n",
            "Response full Unoptimized: To find out the current weather in Paris, you can use a variety of methods:\n",
            "\n",
            "1. **Weather Websites**: Visit reputable meteorological websites such as AccuWeather, Weather.com, or Meteo France for detailed and up-to-date information.\n",
            "\n",
            "2. **Mobile Apps**: Download and use weather apps on your smartphone like The Weather Channel app, AccuWeather app, or Apple's built-in Weather app.\n",
            "\n",
            "3. **Search Engines**: Simply type \"current weather in Paris\" into a search engine like Google to get quick results including temperature, conditions, and forecasts.\n",
            "\n",
            "4. **Online Maps**: Use online mapping services such as Google Maps which often include current weather information when you view a location.\n",
            "\n",
            "5. **Local News Channels**: Tune in to local or international news channels that provide weather updates for major cities including Paris.\n",
            "\n",
            "These resources should give you accurate and timely information about the weather conditions in Paris.\n",
            " Response full Optimized: The current weather in Paris is 18°C with clear skies.\n"
          ]
        }
      ],
      "source": [
        "def agent_unoptimized(input_text):\n",
        "    prompt = f\"Answer the question: {input_text}\"\n",
        "    return ollama_chat(model=\"phi4\", prompt=prompt)\n",
        "\n",
        "def agent_optimized(input_text):\n",
        "    prompt = f\"\"\"You are a weather assistant.\n",
        "Give a short (one sentence) current weather summary for the location: {input_text}.\n",
        "Only mention temperature and conditions.\"\"\"\n",
        "    return ollama_chat(model=\"phi4\", prompt=prompt)\n",
        "\n",
        "compare_agents(agent_unoptimized, agent_optimized, \"Weather Paris?\", \"Optimization 1: Prompt Clarity\")\n",
        "\n"
      ]
    },
    {
      "cell_type": "markdown",
      "metadata": {
        "id": "UCLLD9sFng0A"
      },
      "source": [
        "# Optimization 2: Input Size Management"
      ]
    },
    {
      "cell_type": "code",
      "execution_count": null,
      "metadata": {
        "id": "ot_pLUPeocfA"
      },
      "outputs": [],
      "source": [
        "# https://www.blindtextgenerator.com/\n",
        "large_input = \"\"\"\n",
        "One morning, when Gregor Samsa woke from troubled dreams, he found himself transformed in his bed into a horrible vermin. He lay on his armour-like back, and if he lifted his head a little he could see his brown belly, slightly domed and divided by arches into stiff sections. The bedding was hardly able to cover it and seemed ready to slide off any moment. His many legs, pitifully thin compared with the size of the rest of him, waved about helplessly as he looked. \"What's happened to me?\" he thought. It wasn't a dream. His room, a proper human room although a little too small, lay peacefully between its four familiar walls. A collection of textile samples lay spread out on the table - Samsa was a travelling salesman - and above it there hung a picture that he had recently cut out of an illustrated magazine and housed in a nice, gilded frame. It showed a lady fitted out with a fur hat and fur boa who sat upright, raising a heavy fur muff that covered the whole of her lower arm towards the viewer. Gregor then turned to look out the window at the dull weather. Drops of rain could be heard hitting the pane, which made him feel quite sad. \"How about if I sleep a little bit longer and forget all this nonsense\", he thought, but that was something he was unable to do because he was used to sleeping on his right, and in his present state couldn't get into that position. However hard he threw himself onto his right, he always rolled back to where he was. He must have tried it a hundred times, shut his eyes so that he wouldn't have to look at the floundering legs, and only stopped when he began to feel a mild, dull pain there that he had never felt before. \"Oh, God\", he thought, \"what a strenuous career it is that I've chosen! Travelling day in and day out. Doing business like this takes much more effort than doing your own business at home, and on top of that there's the curse of travelling, worries about making train connections, bad and irregular food, contact with different people all the time so that you can never get to know anyone or become friendly with them. It can all go to Hell!\" He felt a slight itch up on his belly; pushed himself slowly up on his back towards the headboard so that he could lift his head better; found where the itch was, and saw that it was covered with lots of little white spots which he didn't know what to make of; and when he tried to feel the place with one of his legs he drew it quickly back because as soon as he touched it he was overcome by a cold shudder. He slid back into his former position. \"Getting up early all the time\", he thought, \"it makes you stupid. You've got to get enough sleep. Other travelling salesmen live a life of luxury. For instance, whenever I go back to the guest house during the morning to copy out the contract, these gentlemen are always still sitting there eating their breakfasts. I ought to just try that with my boss; I'd get kicked out on the spot. But who knows, maybe that would be the best thing for me. If I didn't have my parents to think about I'd have given in my notice a long time ago, I'd have gone up to the boss and told him just what I think, tell him everything I would, let him know just what I feel. He'd fall right off his desk! And it's a funny sort of business to be sitting up there at your desk, talking down at your subordinates from up there, especially when you have to go right up close because the boss is hard of hearing. Well, there's still some hope; once I've got the money together to pay off my parents' debt to him - another five or six years I suppose - that's definitely what I'll do. That's when I'll make the big change. First of all though, I've got to get up, my train leaves at five.\" And he looked over at the alarm clock, ticking on the chest of drawers. \"God in Heaven!\" he thought. It was half past six and the hands were quietly moving forwards, it was even later than half past, more like quarter to seven. Had the alarm clock not rung? He could see from the bed that it had been set for four o'clock as it should have been; it certainly must have rung. Yes, but was it possible to quietly sleep through that furniture-rattling noise? True, he had not slept peacefully, but probably all the more deeply because of that. What should he do now? The next train went at seven; if he were to catch that he would have to rush like mad and the collection of samples was still not packed, and he did not at all feel particularly fresh and lively. And even if he did catch the train he would not avoid his boss's anger as the office assistant would have been there to see the five o'clock train go, he would have put in his report about Gregor's not being there a long time ago. The office assistant was the boss's man, spineless, and with no understanding. What about if he reported sick? But that would be extremely strained and suspicious as in fifteen years of service Gregor had never once yet been ill. His boss would certainly come round with the doctor from the medical insurance company, accuse his parents of having a lazy son, and accept the doctor's recommendation not to make any claim as the doctor believed that no-one was ever ill but that many were workshy. And what's more, would he have been entirely wrong in this case? Gregor did in fact, apart from excessive sleepiness after sleeping for so long, feel completely well and even felt much hungrier than usual. One morning, when Gregor Samsa woke from troubled dreams, he found himself transformed in his bed into a horrible vermin. He lay on his armour-like back, and if he lifted his head a little he could see his brown belly, slightly domed and divided by arches into stiff sections. The bedding was hardly able to cover it and seemed ready to slide off any moment. His many legs, pitifully thin compared with the size of the rest of him, waved about helplessly as he looked. \"What's happened to me?\" he thought. It wasn't a dream. His room, a proper human room although a little too small, lay peacefully between its four familiar walls. A collection of textile samples lay spread out on the table - Samsa was a travelling salesman - and above it there hung a picture that he had recently cut out of an illustrated magazine and housed in a nice, gilded frame. It showed a lady fitted out with a fur hat and fur boa who sat upright, raising a heavy fur muff that covered the whole of her lower arm towards the viewer. Gregor then turned to look out the window at the dull weather. Drops of rain could be heard hitting the pane, which made him feel quite sad. \"How about if I sleep a little bit longer and forget all this nonsense\", he thought, but that was something he was unable to do because he was used to sleeping on his right, and in his present state couldn't get into that position. However hard he threw himself onto his right, he always rolled back to where he was. He must have tried it a hundred times, shut his eyes so that he wouldn't have to look at the floundering legs, and only stopped when he began to feel a mild, dull pain there that he had never felt before. \"Oh, God\", he thought, \"what a strenuous career it is that I've chosen! Travelling day in and day out. Doing business like this takes much more effort than doing your own business at home, and on top of that there's the curse of travelling, worries about making train connections, bad and irregular food, contact with different people all the time so that you can never get to know anyone or become friendly with them. It can all go to Hell!\" He felt a slight itch up on his belly; pushed himself slowly up on his back towards the headboard so that he could lift his head better; found where the itch was, and saw that it was covered with lots of little white spots which he didn't know what to make of; and when he tried to feel the place with one of his legs he drew it quickly back because as soon as he touched it he was overcome by a cold shudder. He slid back into his former position. \"Getting up early all the time\", he thought, \"it makes you stupid. You've got to get enough sleep. Other travelling salesmen live a life of luxury. For instance, whenever I go back to the guest house during the morning to copy out the contract, these gentlemen are always still sitting there eating their breakfasts. I ought to just try that with my boss; I'd get kicked out on the spot. But who knows, maybe that would be the best thing for me. If I didn't have my parents to think about I'd have given in my notice a long time ago, I'd have gone up to the boss and told him just what I think, tell him everything I would, let him know just what I feel. He'd fall right off his desk! And it's a funny sort of business to be sitting up there at your desk, talking down at your subordinates from up there, especially when you have to go right up close because the boss is hard of hearing. Well, there's still some hope; once I've got the money together to pay off my parents' debt to him - another five or six years I suppose - that's definitely what I'll do. That's when I'll make the big change. First of all though, I've got to get up, my train leaves at five.\" And he looked over at the alarm clock, ticking on the chest of drawers. \"God in Heaven!\" he thought. It was half past six and the hands were quietly moving forwards, it was even later than half past, more like quarter to seven. Had the alarm clock not rung? He could see from the bed that it had been set for four o'clock as it should have been; it certainly must have rung. Yes, but was it possible to quietly sleep through that furniture-rattling noise? True, he had not slept peacefully, but probably all the more deeply because of that. What should he do now? The next train went at seven; if he were to catch that he would have to rush like mad and the collection of samples was still not packed, and he did not at all feel particularly fresh and lively. And even if he did catch the train he would not avoid his boss's anger as the office assistant would have been there to see the five o'clock train go, he would have put in his report about Gregor's not being there a long time ago. The office assistant was the boss's man, spineless, and with no understanding. What about if he reported sick? But that would be extremely strained and suspicious as in fifteen years of service Gregor had never once yet been ill. His boss would certainly come round with the doctor from the medical insurance company, accuse his parents of having a lazy son, and accept the doctor's recommendation not to make any claim as the doctor believed that no-one was ever ill but that many were workshy. And what's more, would he have been entirely wrong in this case? Gregor did in fact, apart from excessive sleepiness after sleeping for so long, feel completely well and even felt much hungrier than usual. One morning, when Gregor Samsa woke from troubled dreams, he found himself transformed in his bed into a horrible vermin. He lay on his armour-like back, and if he lifted his head a little he could see his brown belly, slightly domed and divided by arches into stiff sections. The bedding was hardly able to cover it and seemed ready to slide off any moment. His many legs, pitifully thin compared with the size of the rest of him, waved about helplessly as he looked. \"What's happened to me?\" he thought. It wasn't a dream. His room, a proper human room although a little too small, lay peacefully between its four familiar walls. A collection of textile samples lay spread out on the table - Samsa was a travelling salesman - and above it there hung a picture that he had recently cut out of an illustrated magazine and housed in a nice, gilded frame. It showed a lady fitted out with a fur hat and fur boa who sat upright, raising a heavy fur muff that covered the whole of her lower arm towards the viewer. Gregor then turned to look out the window at the dull weather. Drops of rain could be heard hitting the pane, which made him feel quite sad. \"How about if I sleep a little bit longer and forget all this nonsense\", he thought, but that was something he was unable to do because he was used to sleeping on his right, and in his present state couldn't get into that position. However hard he threw himself onto his right, he always rolled back to where he was. He must have tried it a hundred times, shut his eyes so that he wouldn't have to look at the floundering legs, and only stopped when he began to feel a mild, dull pain there that he had never felt before. \"Oh, God\", he thought, \"what a strenuous career it is that I've chosen! Travelling day in and day out. Doing business like this takes much more effort than doing your own business at home, and on top of that there's the curse of travelling, worries about making train connections, bad and irregular food, contact with different people all the time so that you can never get to know anyone or become friendly with them. It can all go to Hell!\" He felt a slight itch up on his belly; pushed himself slowly up on his back towards the headboard so that he could lift his head better; found where the itch was, and saw that it was covered with lots of little white spots which he didn't know what to make of; and when he tried to feel the place with one of his legs he drew it quickly back because as soon as he touched it he was overcome by a cold shudder. He slid back into his former position. \"Getting up early all the time\", he thought, \"it makes you stupid. You've got to get enough sleep. Other travelling salesmen live a life of luxury. For instance, whenever I go back to the guest house during the morning to copy out the contract, these gentlemen are always still sitting there eating their breakfasts. I ought to just try that with my boss; I'd get kicked out on the spot. But who knows, maybe that would be the best thing for me. If I didn't have my parents to think about I'd have given in my notice a long time ago, I'd have gone up to the boss and told him just what I think, tell him everything I would, let him know just what I feel. He'd fall right off his desk! And it's a funny sort of business to be sitting up there at your desk, talking down at your subordinates from up there, especially when you have to go right up close because the boss is hard of hearing. Well, there's still some hope; once I've got the money together to pay off my parents' debt to him - another five or six years I suppose - that's definitely what I'll do. That's when I'll make the big change. First of all though, I've got to get up, my train leaves at five.\" And he looked over at the alarm clock, ticking on the chest of drawers. \"God in Heaven!\" he thought. It was half past six and the hands were quietly moving forwards, it was even later than half past, more like quarter to seven. Had the alarm clock not rung? He could see from the bed that it had been set for four o'clock as it should have been; it certainly must have rung. Yes, but was it possible to quietly sleep through that furniture-rattling noise? True, he had not slept peacefully, but probably all the more deeply because of that. What should he do now? The next train went at seven; if he were to catch that he would have to rush like mad and the collection of samples was still not packed, and he did not at all feel particularly fresh and lively. And even if he did catch the train he would not avoid his boss's anger as the office assistant would have been there to see the five o'clock train go, he would have put in his report about Gregor's not being there a long time ago. The office assistant was the boss's man, spineless, and with no understanding. What about if he reported sick? But that would be extremely strained and suspicious as in fifteen years of service Gregor had never once yet been ill. His boss would certainly come round with the doctor from the medical insurance company, accuse his parents of having a lazy son, and accept the doctor's recommendation not to make any claim as the doctor believed that no-one was ever ill but that many were workshy. And what's more, would he have been entirely wrong in this case? Gregor did in fact, apart from excessive sleepiness after sleeping for so long, feel completely well and even felt much hungrier than usual. One morning, when Gregor Samsa woke from troubled dreams, he found himself transformed in his bed into a horrible vermin. He lay on his armour-like back, and if he lifted his head a little he could see his brown belly, slightly domed and divided by arches into stiff sections. The bedding was hardly able to cover it and seemed ready to slide off any moment. His many legs, pitifully thin compared with the size of the rest of him, waved about helplessly as he looked. \"What's happened to me?\" he thought. It wasn't a dream. His room, a proper human room although a little too small, lay peacefully between its four familiar walls. A collection of textile samples lay spread out on the table - Samsa was a travelling salesman - and above it there hung a picture that he had recently cut out of an illustrated magazine and housed in a nice, gilded frame. It showed a lady fitted out with a fur hat and fur boa who sat upright, raising a heavy fur muff that covered the whole of her lower arm towards the viewer. Gregor then turned to look out the window at the dull weather. Drops of rain could be heard hitting the pane, which made him feel quite sad. \"How about if I sleep a little bit longer and forget all this nonsense\", he thought, but that was something he was unable to do because he was used to sleeping on his right, and in his present state couldn't get into that position. However hard he threw himself onto his right, he always rolled back to where he was. He must have tried it a hundred times, shut his eyes so that he wouldn't have to look at the floundering legs, and only stopped when he began to feel a mild, dull pain there that he had never felt before. \"Oh, God\", he thought, \"what a strenuous career it is that I've chosen! Travelling day in and day out. Doing business like this takes much more effort than doing your own business at home, and on top of that there's the curse of travelling, worries about making train connections, bad and irregular food, contact with different people all the time so that you can never get to know anyone or become friendly with them. It can all go to Hell!\" He felt a slight itch up on his belly; pushed himself slowly up on his back towards the headboard so that he could lift his head better; found where the itch was, and saw that it was covered with lots of little white spots which he didn't know what to make of; and when he tried to feel the place with one of his legs he drew it quickly back because as soon as he touched it he was overcome by a cold shudder. He slid back into his former position. \"Getting up early all the time\", he thought, \"it makes you stupid. You've got to get enough sleep. Other travelling salesmen live a life of luxury. For instance, whenever I go back to the guest house during the morning to copy out the contract, these gentlemen are always still sitting there eating their breakfasts. I ought to just try that with my boss; I'd get kicked out on the spot. But who knows, maybe that would be the best thing for me. If I didn't have my parents to think about I'd have given in my notice a long time ago, I'd have gone up to the boss and told him just what I think, tell him everything I would, let him know just what I feel. He'd fall right off his desk! And it's a funny sort of business to be sitting up there at your desk, talking down at your subordinates from up there, especially when you have to go right up close because the boss is hard of hearing. Well, there's still some hope; once I've got the money together to pay off my parents' debt to him - another five or six years I suppose - that's definitely what I'll do. That's when I'll make the big change. First of all though, I've got to get up, my train leaves at five.\" And he looked over at the alarm clock, ticking on the chest of drawers. \"God in Heaven!\" he thought. It was half past six and the hands were quietly moving forwards, it was even later than half past, more like quarter to seven. Had the alarm clock not rung? He could see from the bed that it had been set for four o'clock as it should have been; it certainly must have rung. Yes, but was it possible to quietly sleep through that furniture-rattling noise? True, he had not slept peacefully, but probably all the more deeply because of that. What should he do now? The next train went at seven; if he were to catch that he would have to rush like mad and the collection of samples was still not packed, and he did not at all feel particularly fresh and lively. And even if he did catch the train he would not avoid his boss's anger as the office assistant would have been there to see the five o'clock train go, he would have put in his report about Gregor's not being there a long time ago. The office assistant was the boss's man, spineless, and with no understanding. What about if he reported sick? But that would be extremely strained and suspicious as in fifteen years of service Gregor had never once yet been ill. His boss would certainly come round with the doctor from the medical insurance company, accuse his parents of having a lazy son, and accept the doctor's recommendation not to make any claim as the doctor believed that no-one was ever ill but that many were workshy. And what's more, would he have been entirely wrong in this case? Gregor did in fact, apart from excessive sleepiness after sleeping for so long, feel completely well and even felt much hungrier than usual. One morning, when Gregor Samsa woke from troubled dreams, he found himself transformed in his bed into a horrible vermin. He lay on his armour-like back, and if he lifted his head a little he could see his brown belly, slightly domed and divided by arches into stiff sections. The bedding was hardly able to cover it and seemed ready to slide off any moment. His many legs, pitifully thin compared with the size of the rest of him, waved about helplessly as he looked. \"What's happened to me?\" he thought. It wasn't a dream. His room, a proper human room although a little too small, lay peacefully between its four familiar walls. A collection of textile samples lay spread out on the table - Samsa was a travelling salesman - and above it there hung a picture that he had recently cut out of an illustrated magazine and housed in a nice, gilded frame. It showed a lady fitted out with a fur hat and fur boa who sat upright, raising a heavy fur muff that covered the whole of her lower arm towards the viewer. Gregor then turned to look out the window at the dull weather. Drops of rain could be heard hitting the pane, which made him feel quite sad. \"How about if I sleep a little bit longer and forget all this nonsense\", he thought, but that was something he was unable to do because he was used to sleeping on his right, and in his present state couldn't get into that position. However hard he threw himself onto his right, he always rolled back to where he was. He must have tried it a hundred times, shut his eyes so that he wouldn't have to look at the floundering legs, and only stopped when he began to feel a mild, dull pain there that he had never felt before. \"Oh, God\", he thought, \"what a strenuous career it is that I've chosen! Travelling day in and day out. Doing business like this takes much more effort than doing your own business at home, and on top of that there's the curse of travelling, worries about making train connections, bad and irregular food, contact with different people all the time so that you can never get to know anyone or become friendly with them. It can all go to Hell!\" He felt a slight itch up on his belly; pushed himself slowly up on his back towards the headboard so that he could lift his head better; found where the itch was, and saw that it was covered with lots of little white spots which he didn't know what to make of; and when he tried to feel the place with one of his legs he drew it quickly back because as soon as he touched it he was overcome by a cold shudder. He slid back into his former position. \"Getting up early all the time\", he thought, \"it makes you stupid. You've got to get enough sleep. Other travelling salesmen live a life of luxury. For instance, whenever I go back to the guest house during the morning to copy out the contract, these gentlemen are always still sitting there eating their breakfasts. I ought to just try that with my boss; I'd get kicked out on the spot. But who knows, maybe that would be the best thing for me. If I didn't have my parents to think about I'd have given in my notice a long time ago, I'd have gone up to the boss and told him just what I think, tell him everything I would, let him know just what I feel. He'd fall right off his desk! And it's a funny sort of business to be sitting up there at your desk, talking down at your subordinates from up there, especially when you have to go right up close because the boss is hard of hearing. Well, there's still some hope; once I've got the money together to pay off my parents' debt to him - another five or six years I suppose - that's definitely what I'll do. That's when I'll make the big change. First of all though, I've got to get up, my train leaves at five.\" And he looked over at the alarm clock, ticking on the chest of drawers. \"God in Heaven!\" he thought. It was half past six and the hands were quietly moving forwards, it was even later than half past, more like quarter to seven. Had the alarm clock not rung? He could see from the bed that it had been set for four o'clock as it should have been; it certainly must have rung. Yes, but was it possible to quietly sleep through that furniture-rattling noise? True, he had not slept peacefully, but probably all the more deeply because of that. What should he do now? The next train went at seven; if he were to catch that he would have to rush like mad and the collection of samples was still not packed, and he did not at all feel particularly fresh and lively. And even if he did catch the train he would not avoid his boss's anger as the office assistant would have been there to see the five o'clock train go, he would have put in his report about Gregor's not being there a long time ago. The office assistant was the boss's man, spineless, and with no understanding. What about if he reported sick? But that would be extremely strained and suspicious as in fifteen years of service Gregor had never once yet been ill. His boss would certainly come round with the doctor from the medical insurance company, accuse his parents of having a lazy son, and accept the doctor's recommendation not to make any claim as the doctor believed that no-one was ever ill but that many were workshy. And what's more, would he have been entirely wrong in this case? Gregor did in fact, apart from excessive sleepiness after sleeping for so long, feel completely well and even felt much hungrier than usual. One morning, when Gregor Samsa woke from troubled dreams, he found himself transformed in his bed into a horrible vermin. He lay on his armour-like back, and if he lifted his head a little he could see his brown belly, slightly domed and divided by arches into stiff sections. The bedding was hardly able to cover it and seemed ready to slide off any moment. His many legs, pitifully thin compared with the size of the rest of him, waved about helplessly as he looked. \"What's happened to me?\" he thought. It wasn't a dream. His room, a proper human room although a little too small, lay peacefully between its four familiar walls. A collection of textile samples lay spread out on the table - Samsa was a travelling salesman - and above it there hung a picture that he had recently cut out of an illustrated magazine and housed in a nice, gilded frame. It showed a lady fitted out with a fur hat and fur boa who sat upright, raising a heavy fur muff that covered the whole of her lower arm towards the viewer. Gregor then turned to look out the window at the dull weather. Drops of rain could be heard hitting the pane, which made him feel quite sad. \"How about if I sleep a little bit longer and forget all this nonsense\", he thought, but that was something he was unable to do because he was used to sleeping on his right, and in his present state couldn't get into that position. However hard he threw himself onto his right, he always rolled back to where he was. He must have tried it a hundred times, shut his eyes so that he wouldn't have to look at the floundering legs, and only stopped when he began to feel a mild, dull pain there that he had never felt before. \"Oh, God\", he thought, \"what a strenuous career it is that I've chosen! Travelling day in and day out. Doing business like this takes much more effort than doing your own business at home, and on top of that there's the curse of travelling, worries about making train connections, bad and irregular food, contact with different people all the time so that you can never get to know anyone or become friendly with them. It can all go to Hell!\" He felt a slight itch up on his belly; pushed himself slowly up on his back towards the headboard so that he could lift his head better; found where the itch was, and saw that it was covered with lots of little white spots which he didn't know what to make of; and when he tried to feel the place with one of his legs he drew it quickly back because as soon as he touched it he was overcome by a cold shudder. He slid back into his former position. \"Getting up early all the time\", he thought, \"it makes you stupid. You've got to get enough sleep. Other travelling salesmen live a life of luxury. For instance, whenever I go back to the guest house during the morning to copy out the contract, these gentlemen are always still sitting there eating their breakfasts. I ought to just try that with my boss; I'd get kicked out on the spot. But who knows, maybe that would be the best thing for me. If I didn't have my parents to think about I'd have given in my notice a long time ago, I'd have gone up to the boss and told him just what I think, tell him everything I would, let him know just what I feel. He'd fall right off his desk! And it's a funny sort of business to be sitting up there at your desk, talking down at your subordinates from up there, especially when you have to go right up close because the boss is hard of hearing. Well, there's still some hope; once I've got the money together to pay off my parents' debt to him - another five or six years I suppose - that's definitely what I'll do. That's when I'll make the big change. First of all though, I've got to get up, my train leaves at five.\" And he looked over at the alarm clock, ticking on the chest of drawers. \"God in Heaven!\" he thought. It was half past six and the hands were quietly moving forwards, it was even later than half past, more like quarter to seven. Had the alarm clock not rung? He could see from the bed that it had been set for four o'clock as it should have been; it certainly must have rung. Yes, but was it possible to quietly sleep through that furniture-rattling noise? True, he had not slept peacefully, but probably all the more deeply because of that. What should he do now? The next train went at seven; if he were to catch that he would have to rush like mad and the collection of samples was still not packed, and he did not at all feel particularly fresh and lively. And even if he did catch the train he would not avoid his boss's anger as the office assistant would have been there to see the five o'clock train go, he would have put in his report about Gregor's not being there a long time ago. The office assistant was the boss's man, spineless, and with no understanding. What about if he reported sick? But that would be extremely strained and suspicious as in fifteen years of service Gregor had never once yet been ill. His boss would certainly come round with the doctor from the medical insurance company, accuse his parents of having a lazy son, and accept the doctor's recommendation not to make any claim as the doctor believed that no-one was ever ill but that many were workshy. And what's more, would he have been entirely wrong in this case? Gregor did in fact, apart from excessive sleepiness after sleeping for so long, feel completely well and even felt much hungrier than usual. One morning, when Gregor Samsa woke from troubled dreams, he found himself transformed in his bed into a horrible vermin. He lay on his armour-like back, and if he lifted his head a little he could see his brown belly, slightly domed and divided by arches into stiff sections. The bedding was hardly able to cover it and seemed ready to slide off any moment. His many legs, pitifully thin compared with the size of the rest of him, waved about helplessly as he looked. \"What's happened to me?\" he thought. It wasn't a dream. His room, a proper human room although a little too small, lay peacefully between its four familiar walls. A collection of textile samples lay spread out on the table - Samsa was a travelling salesman - and above it there hung a picture that he had recently cut out of an illustrated magazine and housed in a nice, gilded frame. It showed a lady fitted out with a fur hat and fur boa who sat upright, raising a heavy fur muff that covered the whole of her lower arm towards the viewer. Gregor then turned to look out the window at the dull weather. Drops of rain could be heard hitting the pane, which made him feel quite sad. \"How about if I sleep a little bit longer and forget all this nonsense\", he thought, but that was something he was unable to do because he was used to sleeping on his right, and in his present state couldn't get into that position. However hard he threw himself onto his right, he always rolled back to where he was. He must have tried it a hundred times, shut his eyes so that he wouldn't have to look at the floundering legs, and only stopped when he began to feel a mild, dull pain there that he had never felt before. \"Oh, God\", he thought, \"what a strenuous career it is that I've chosen! Travelling day in and day out. Doing business like this takes much more effort than doing your own business at home, and on top of that there's the curse of travelling, worries about making train connections, bad and irregular food, contact with different people all the time so that you can never get to know anyone or become friendly with them. It can all go to Hell!\" He felt a slight itch up on his belly; pushed himself slowly up on his back towards the headboard so that he could lift his head better; found where the itch was, and saw that it was covered with lots of little white spots which he didn't know what to make of; and when he tried to feel the place with one of his legs he drew it quickly back because as soon as he touched it he was overcome by a cold shudder. He slid back into his former position. \"Getting up early all the time\", he thought, \"it makes you stupid. You've got to get enough sleep. Other travelling salesmen live a life of luxury. For instance, whenever I go back to the guest house during the morning to copy out the contract, these gentlemen are always still sitting there eating their breakfasts. I ought to just try that with my boss; I'd get kicked out on the spot. But who knows, maybe that would be the best thing for me. If I didn't have my parents to think about I'd have given in my notice a long time ago, I'd have gone up to the boss and told him just what I think, tell him everything I would, let him know just what I feel. He'd fall right off his desk! And it's a funny sort of business to be sitting up there at your desk, talking down at your subordinates from up there, especially when you have to go right up close because the boss is hard of hearing. Well, there's still some hope; once I've got the money together to pay off my parents' debt to him - another five or six years I suppose - that's definitely what I'll do. That's when I'll make the big change. First of all though, I've got to get up, my train leaves at five.\" And he looked over at the alarm clock, ticking on the chest of drawers. \"God in Heaven!\" he thought. It was half past six and the hands were quietly moving forwards, it was even later than half past, more like quarter to seven. Had the alarm clock not rung? He could see from the bed that it had been set for four o'clock as it should have been; it certainly must have rung. Yes, but was it possible to quietly sleep through that furniture-rattling noise? True, he had not slept peacefully, but probably all the more deeply because of that. What should he do now? The next train went at seven; if he were to catch that he would have to rush like mad and the collection of samples was still not packed, and he did not at all feel particularly fresh and lively. And even if he did catch the train he would not avoid his boss's anger as the office assistant would have been there to see the five o'clock train go, he would have put in his report about Gregor's not being there a long time ago. The office assistant was the boss's man, spineless, and with no understanding. What about if he reported sick? But that would be extremely strained and suspicious as in fifteen years of service Gregor had never once yet been ill. His boss would certainly come round with the doctor from the medical insurance company, accuse his parents of having a lazy son, and accept the doctor's recommendation not to make any claim as the doctor believed that no-one was ever ill but that many were workshy. And what's more, would he have been entirely wrong in this case? Gregor did in fact, apart from excessive sleepiness after sleeping for so long, feel completely well and even felt much hungrier than usual. One morning, when Gregor Samsa woke from troubled dreams, he found himself transformed in his bed into a horrible vermin. He lay on his armour-like back, and if he lifted his head a little he could see his brown belly, slightly domed and divided by arches into stiff sections. The bedding was hardly able to cover it and seemed ready to slide off any moment. His many legs, pitifully thin compared with the size of the rest of him, waved about helplessly as he looked. \"What's happened to me?\" he thought. It wasn't a dream. His room, a proper human room although a little too small, lay peacefully between its four familiar walls. A collection of textile samples lay spread out on the table - Samsa was a travelling salesman - and above it there hung a picture that he had recently cut out of an illustrated magazine and housed in a nice, gilded frame. It showed a lady fitted out with a fur hat and fur boa who sat upright, raising a heavy fur muff that covered the whole of her lower arm towards the viewer. Gregor then turned to look out the window at the dull weather. Drops of rain could be heard hitting the pane, which made him feel quite sad. \"How about if I sleep a little bit longer and forget all this nonsense\", he thought, but that was something he was unable to do because he was used to sleeping on his right, and in his present state couldn't get into that position. However hard he threw himself onto his right, he always rolled back to where he was. He must have tried it a hundred times, shut his eyes so that he wouldn't have to look at the floundering legs, and only stopped when he began to feel a mild, dull pain there that he had never felt before. \"Oh, God\", he thought, \"what a strenuous career it is that I've chosen! Travelling day in and day out. Doing business like this takes much more effort than doing your own business at home, and on top of that there's the curse of travelling, worries about making train connections, bad and irregular food, contact with different people all the time so that you can never get to know anyone or become friendly with them. It can all go to Hell!\" He felt a slight itch up on his belly; pushed himself slowly up on his back towards the headboard so that he could lift his head better; found where the itch was, and saw that it was covered with lots of little white spots which he didn't know what to make of; and when he tried to feel the place with one of his legs he drew it quickly back because as soon as he touched it he was overcome by a cold shudder. He slid back into his former position. \"Getting up early all the time\", he thought, \"it makes you stupid. You've got to get enough sleep. Other travelling salesmen live a life of luxury. For instance, whenever I go back to the guest house during the morning to copy out the contract, these gentlemen are always still sitting there eating their breakfasts. I ought to just try that with my boss; I'd get kicked out on the spot. But who knows, maybe that would be the best thing for me. If I didn't have my parents to think about I'd have given in my notice a long time ago, I'd have gone up to the boss and told him just what I think, tell him everything I would, let him know just what I feel. He'd fall right off his desk! And it's a funny sort of business to be sitting up there at your desk, talking down at your subordinates from up there, especially when you have to go right up close because the boss is hard of hearing. Well, there's still some hope; once I've got the money together to pay off my parents' debt to him - another five or six years I suppose - that's definitely what I'll do. That's when I'll make the big change. First of all though, I've got to get up, my train leaves at five.\" And he looked over at the alarm clock, ticking on the chest of drawers. \"God in Heaven!\" he thought. It was half past six and the hands were quietly moving forwards, it was even later than half past, more like quarter to seven. Had the alarm clock not rung? He could see from the bed that it had been set for four o'clock as it should have been; it certainly must have rung. Yes, but was it possible to quietly sleep through that furniture-rattling noise? True, he had not slept peacefully, but probably all the more deeply because of that. What should he do now? The next train went at seven; if he were to catch that he would have to rush like mad and the collection of samples was still not packed, and he did not at all feel particularly fresh and lively. And even if he did catch the train he would not avoid his boss's anger as the office assistant would have been there to see the five o'clock train go, he would have put in his report about Gregor's not being there a long time ago. The office assistant was the boss's man, spineless, and with no understanding. What about if he reported sick? But that would be extremely strained and suspicious as in fifteen years of service Gregor had never once yet been ill. His boss would certainly come round with the doctor from the medical insurance company, accuse his parents of having a lazy son, and accept the doctor's recommendation not to make any claim as the doctor believed that no-one was ever ill but that many were workshy. And what's more, would he have been entirely wrong in this case? Gregor did in fact, apart from excessive sleepiness after sleeping for so long, feel completely well and even felt much hungrier than usual. One morning, when Gregor Samsa woke from troubled dreams, he found himself transformed in his bed into a horrible vermin. He lay on his armour-like back, and if he lifted his head a little he could see his brown belly, slightly domed and divided by arches into stiff sections. The bedding was hardly able to cover it and seemed ready to slide off any moment. His many legs, pitifully thin compared with the size of the rest of him, waved about helplessly as he looked. \"What's happened to me?\" he thought. It wasn't a dream. His room, a proper human room although a little too small, lay peacefully between its four familiar walls. A collection of textile samples lay spread out on the table - Samsa was a travelling salesman - and above it there hung a picture that he had recently cut out of an illustrated magazine and housed in a nice, gilded frame. It showed a lady fitted out with a fur hat and fur boa who sat upright, raising a heavy fur muff that covered the whole of her lower arm towards the viewer. Gregor then turned to look out the window at the dull weather. Drops of rain could be heard hitting the pane, which made him feel quite sad. \"How about if I sleep a little bit longer and forget all this nonsense\", he thought, but that was something he was unable to do because he was used to sleeping on his right, and in his present state couldn't get into that position. However hard he threw himself onto his right, he always rolled back to where he was. He must have tried it a hundred times, shut his eyes so that he wouldn't have to look at the floundering legs, and only stopped when he began to feel a mild, dull pain there that he had never felt before. \"Oh, God\", he thought, \"what a strenuous career it is that I've chosen! Travelling day in and day out. Doing business like this takes much more effort than doing your own business at home, and on top of that there's the curse of travelling, worries about making train connections, bad and irregular food, contact with different people all the time so that you can never get to know anyone or become friendly with them. It can all go to Hell!\" He felt a slight itch up on his belly; pushed himself slowly up on his back towards the headboard so that he could lift his head better; found where the itch was, and saw that it was covered with lots of little white spots which he didn't know what to make of; and when he tried to feel the place with one of his legs he drew it quickly back because as soon as he touched it he was overcome by a cold shudder. He slid back into his former position. \"Getting up early all the time\", he thought, \"it makes you stupid. You've got to get enough sleep. Other travelling salesmen live a life of luxury. For instance, whenever I go back to the guest house during the morning to copy out the contract, these gentlemen are always still sitting there eating their breakfasts. I ought to just try that with my boss; I'd get kicked out on the spot. But who knows, maybe that would be the best thing for me. If I didn't have my parents to think about I'd have given in my notice a long time ago, I'd have gone up to the boss and told him just what I think, tell him everything I would, let him know just what I feel. He'd fall right off his desk! And it's a funny sort of business to be sitting up there at your desk, talking down at your subordinates from up there, especially when you have to go right up close because the boss is hard of hearing. Well, there's still some hope; once I've got the money together to pay off my parents' debt to him - another five or six years I suppose - that's definitely what I'll do. That's when I'll make the big change. First of all though, I've got to get up, my train leaves at five.\" And he looked over at the alarm clock, ticking on the chest of drawers. \"God in Heaven!\" he thought. It was half past six and the hands were quietly moving forwards, it was even later than half past, more like quarter to seven. Had the alarm clock not rung? He could see from the bed that it had been set for four o'clock as it should have been; it certainly must have rung. Yes, but was it possible to quietly sleep through that furniture-rattling noise? True, he had not slept peacefully, but probably all the more deeply because of that. What should he do now? The next train went at seven; if he were to catch that he would have to rush like mad and the collection of samples was still not packed, and he did not at all feel particularly fresh and lively. And even if he did catch the train he would not avoid his boss's anger as the office assistant would have been there to see the five o'clock train go, he would have put in his report about Gregor's not being there a long time ago. The office assistant was the boss's man, spineless, and with no understanding. What about if he reported sick? But that would be extremely strained and suspicious as in fifteen years of service Gregor had never once yet been ill. His boss would certainly come round with the doctor from the medical insurance company, accuse his parents of having a lazy son, and accept the doctor's recommendation not to make any claim as the doctor believed that no-one was ever ill but that many were workshy. And what's more, would he have been entirely wrong in this case? Gregor did in fact, apart from excessive sleepiness after sleeping for so long, feel completely well and even felt much hungrier than usual.One morning, when Gregor Samsa woke from troubled dreams, he found himself transformed in his bed into a horrible vermin. He lay on his armour-like back, and if he lifted his head a little he could see his brown belly, slightly domed and divided by arches into stiff sections. The bedding was hardly able to cover it and seemed ready to slide off any moment. His many legs, pitifully thin compared with the size of the rest of him, waved about helplessly as he looked. \"What's happened to me?\" he thought. It wasn't a dream. His room, a proper human room although a little too small, lay peacefully between its four familiar walls. A collection of textile samples lay spread out on the table - Samsa was a travelling salesman - and above it there hung a picture that he had recently cut out of an illustrated magazine and housed in a nice, gilded frame. It showed a lady fitted out with a fur hat and fur boa who sat upright, raising a heavy fur muff that covered the whole of her lower arm towards the viewer. Gregor then turned to look out the window at the dull weather. Drops of rain could be heard hitting the pane, which made him feel quite sad. \"How about if I sleep a little bit longer and forget all this nonsense\", he thought, but that was something he was unable to do because he was used to sleeping on his right, and in his present state couldn't get into that position. However hard he threw himself onto his right, he always rolled back to where he was. He must have tried it a hundred times, shut his eyes so that he wouldn't have to look at the floundering legs, and only stopped when he began to feel a mild, dull pain there that he had never felt before. \"Oh, God\", he thought, \"what a strenuous career it is that I've chosen! Travelling day in and day out. Doing business like this takes much more effort than doing your own business at home, and on top of that there's the curse of travelling, worries about making train connections, bad and irregular food, contact with different people all the time so that you can never get to know anyone or become friendly with them. It can all go to Hell!\" He felt a slight itch up on his belly; pushed himself slowly up on his back towards the headboard so that he could lift his head better; found where the itch was, and saw that it was covered with lots of little white spots which he didn't know what to make of; and when he tried to feel the place with one of his legs he drew it quickly back because as soon as he touched it he was overcome by a cold shudder. He slid back into his former position. \"Getting up early all the time\", he thought, \"it makes you stupid. You've got to get enough sleep. Other travelling salesmen live a life of luxury. For instance, whenever I go back to the guest house during the morning to copy out the contract, these gentlemen are always still sitting there eating their breakfasts. I ought to just try that with my boss; I'd get kicked out on the spot. But who knows, maybe that would be the best thing for me. If I didn't have my parents to think about I'd have given in my notice a long time ago, I'd have gone up to the boss and told him just what I think, tell him everything I would, let him know just what I feel. He'd fall right off his desk! And it's a funny sort of business to be sitting up there at your desk, talking down at your subordinates from up there, especially when you have to go right up close because the boss is hard of hearing. Well, there's still some hope; once I've got the money together to pay off my parents' debt to him - another five or six years I suppose - that's definitely what I'll do. That's when I'll make the big change. First of all though, I've got to get up, my train leaves at five.\" And he looked over at the alarm clock, ticking on the chest of drawers. \"God in Heaven!\" he thought. It was half past six and the hands were quietly moving forwards, it was even later than half past, more like quarter to seven. Had the alarm clock not rung? He could see from the bed that it had been set for four o'clock as it should have been; it certainly must have rung. Yes, but was it possible to quietly sleep through that furniture-rattling noise? True, he had not\n",
        "\"\"\""
      ]
    },
    {
      "cell_type": "code",
      "execution_count": null,
      "metadata": {
        "colab": {
          "base_uri": "https://localhost:8080/"
        },
        "id": "-pSSX3XmnlXf",
        "outputId": "422edffa-8abc-46ce-a0db-ed804cc9b66b"
      },
      "outputs": [
        {
          "name": "stdout",
          "output_type": "stream",
          "text": [
            "\n",
            "===== Optimization 2: Input Size Management =====\n",
            "Input: \n",
            "One morning, when Gregor Samsa woke from troubled dreams, he found himself transformed in his bed into a horrible vermin. He lay on his armour-like back, and if he lifted his head a little he could see his brown belly, slightly domed and divided by arches into stiff sections. The bedding was hardly able to cover it and seemed ready to slide off any moment. His many legs, pitifully thin compared with the size of the rest of him, waved about helplessly as he looked. \"What's happened to me?\" he thought. It wasn't a dream. His room, a proper human room although a little too small, lay peacefully between its four familiar walls. A collection of textile samples lay spread out on the table - Samsa was a travelling salesman - and above it there hung a picture that he had recently cut out of an illustrated magazine and housed in a nice, gilded frame. It showed a lady fitted out with a fur hat and fur boa who sat upright, raising a heavy fur muff that covered the whole of her lower arm towards the viewer. Gregor then turned to look out the window at the dull weather. Drops of rain could be heard hitting the pane, which made him feel quite sad. \"How about if I sleep a little bit longer and forget all this nonsense\", he thought, but that was something he was unable to do because he was used to sleeping on his right, and in his present state couldn't get into that position. However hard he threw himself onto his right, he always rolled back to where he was. He must have tried it a hundred times, shut his eyes so that he wouldn't have to look at the floundering legs, and only stopped when he began to feel a mild, dull pain there that he had never felt before. \"Oh, God\", he thought, \"what a strenuous career it is that I've chosen! Travelling day in and day out. Doing business like this takes much more effort than doing your own business at home, and on top of that there's the curse of travelling, worries about making train connections, bad and irregular food, contact with different people all the time so that you can never get to know anyone or become friendly with them. It can all go to Hell!\" He felt a slight itch up on his belly; pushed himself slowly up on his back towards the headboard so that he could lift his head better; found where the itch was, and saw that it was covered with lots of little white spots which he didn't know what to make of; and when he tried to feel the place with one of his legs he drew it quickly back because as soon as he touched it he was overcome by a cold shudder. He slid back into his former position. \"Getting up early all the time\", he thought, \"it makes you stupid. You've got to get enough sleep. Other travelling salesmen live a life of luxury. For instance, whenever I go back to the guest house during the morning to copy out the contract, these gentlemen are always still sitting there eating their breakfasts. I ought to just try that with my boss; I'd get kicked out on the spot. But who knows, maybe that would be the best thing for me. If I didn't have my parents to think about I'd have given in my notice a long time ago, I'd have gone up to the boss and told him just what I think, tell him everything I would, let him know just what I feel. He'd fall right off his desk! And it's a funny sort of business to be sitting up there at your desk, talking down at your subordinates from up there, especially when you have to go right up close because the boss is hard of hearing. Well, there's still some hope; once I've got the money together to pay off my parents' debt to him - another five or six years I suppose - that's definitely what I'll do. That's when I'll make the big change. First of all though, I've got to get up, my train leaves at five.\" And he looked over at the alarm clock, ticking on the chest of drawers. \"God in Heaven!\" he thought. It was half past six and the hands were quietly moving forwards, it was even later than half past, more like quarter to seven. Had the alarm clock not rung? He could see from the bed that it had been set for four o'clock as it should have been; it certainly must have rung. Yes, but was it possible to quietly sleep through that furniture-rattling noise? True, he had not slept peacefully, but probably all the more deeply because of that. What should he do now? The next train went at seven; if he were to catch that he would have to rush like mad and the collection of samples was still not packed, and he did not at all feel particularly fresh and lively. And even if he did catch the train he would not avoid his boss's anger as the office assistant would have been there to see the five o'clock train go, he would have put in his report about Gregor's not being there a long time ago. The office assistant was the boss's man, spineless, and with no understanding. What about if he reported sick? But that would be extremely strained and suspicious as in fifteen years of service Gregor had never once yet been ill. His boss would certainly come round with the doctor from the medical insurance company, accuse his parents of having a lazy son, and accept the doctor's recommendation not to make any claim as the doctor believed that no-one was ever ill but that many were workshy. And what's more, would he have been entirely wrong in this case? Gregor did in fact, apart from excessive sleepiness after sleeping for so long, feel completely well and even felt much hungrier than usual. One morning, when Gregor Samsa woke from troubled dreams, he found himself transformed in his bed into a horrible vermin. He lay on his armour-like back, and if he lifted his head a little he could see his brown belly, slightly domed and divided by arches into stiff sections. The bedding was hardly able to cover it and seemed ready to slide off any moment. His many legs, pitifully thin compared with the size of the rest of him, waved about helplessly as he looked. \"What's happened to me?\" he thought. It wasn't a dream. His room, a proper human room although a little too small, lay peacefully between its four familiar walls. A collection of textile samples lay spread out on the table - Samsa was a travelling salesman - and above it there hung a picture that he had recently cut out of an illustrated magazine and housed in a nice, gilded frame. It showed a lady fitted out with a fur hat and fur boa who sat upright, raising a heavy fur muff that covered the whole of her lower arm towards the viewer. Gregor then turned to look out the window at the dull weather. Drops of rain could be heard hitting the pane, which made him feel quite sad. \"How about if I sleep a little bit longer and forget all this nonsense\", he thought, but that was something he was unable to do because he was used to sleeping on his right, and in his present state couldn't get into that position. However hard he threw himself onto his right, he always rolled back to where he was. He must have tried it a hundred times, shut his eyes so that he wouldn't have to look at the floundering legs, and only stopped when he began to feel a mild, dull pain there that he had never felt before. \"Oh, God\", he thought, \"what a strenuous career it is that I've chosen! Travelling day in and day out. Doing business like this takes much more effort than doing your own business at home, and on top of that there's the curse of travelling, worries about making train connections, bad and irregular food, contact with different people all the time so that you can never get to know anyone or become friendly with them. It can all go to Hell!\" He felt a slight itch up on his belly; pushed himself slowly up on his back towards the headboard so that he could lift his head better; found where the itch was, and saw that it was covered with lots of little white spots which he didn't know what to make of; and when he tried to feel the place with one of his legs he drew it quickly back because as soon as he touched it he was overcome by a cold shudder. He slid back into his former position. \"Getting up early all the time\", he thought, \"it makes you stupid. You've got to get enough sleep. Other travelling salesmen live a life of luxury. For instance, whenever I go back to the guest house during the morning to copy out the contract, these gentlemen are always still sitting there eating their breakfasts. I ought to just try that with my boss; I'd get kicked out on the spot. But who knows, maybe that would be the best thing for me. If I didn't have my parents to think about I'd have given in my notice a long time ago, I'd have gone up to the boss and told him just what I think, tell him everything I would, let him know just what I feel. He'd fall right off his desk! And it's a funny sort of business to be sitting up there at your desk, talking down at your subordinates from up there, especially when you have to go right up close because the boss is hard of hearing. Well, there's still some hope; once I've got the money together to pay off my parents' debt to him - another five or six years I suppose - that's definitely what I'll do. That's when I'll make the big change. First of all though, I've got to get up, my train leaves at five.\" And he looked over at the alarm clock, ticking on the chest of drawers. \"God in Heaven!\" he thought. It was half past six and the hands were quietly moving forwards, it was even later than half past, more like quarter to seven. Had the alarm clock not rung? He could see from the bed that it had been set for four o'clock as it should have been; it certainly must have rung. Yes, but was it possible to quietly sleep through that furniture-rattling noise? True, he had not slept peacefully, but probably all the more deeply because of that. What should he do now? The next train went at seven; if he were to catch that he would have to rush like mad and the collection of samples was still not packed, and he did not at all feel particularly fresh and lively. And even if he did catch the train he would not avoid his boss's anger as the office assistant would have been there to see the five o'clock train go, he would have put in his report about Gregor's not being there a long time ago. The office assistant was the boss's man, spineless, and with no understanding. What about if he reported sick? But that would be extremely strained and suspicious as in fifteen years of service Gregor had never once yet been ill. His boss would certainly come round with the doctor from the medical insurance company, accuse his parents of having a lazy son, and accept the doctor's recommendation not to make any claim as the doctor believed that no-one was ever ill but that many were workshy. And what's more, would he have been entirely wrong in this case? Gregor did in fact, apart from excessive sleepiness after sleeping for so long, feel completely well and even felt much hungrier than usual. One morning, when Gregor Samsa woke from troubled dreams, he found himself transformed in his bed into a horrible vermin. He lay on his armour-like back, and if he lifted his head a little he could see his brown belly, slightly domed and divided by arches into stiff sections. The bedding was hardly able to cover it and seemed ready to slide off any moment. His many legs, pitifully thin compared with the size of the rest of him, waved about helplessly as he looked. \"What's happened to me?\" he thought. It wasn't a dream. His room, a proper human room although a little too small, lay peacefully between its four familiar walls. A collection of textile samples lay spread out on the table - Samsa was a travelling salesman - and above it there hung a picture that he had recently cut out of an illustrated magazine and housed in a nice, gilded frame. It showed a lady fitted out with a fur hat and fur boa who sat upright, raising a heavy fur muff that covered the whole of her lower arm towards the viewer. Gregor then turned to look out the window at the dull weather. Drops of rain could be heard hitting the pane, which made him feel quite sad. \"How about if I sleep a little bit longer and forget all this nonsense\", he thought, but that was something he was unable to do because he was used to sleeping on his right, and in his present state couldn't get into that position. However hard he threw himself onto his right, he always rolled back to where he was. He must have tried it a hundred times, shut his eyes so that he wouldn't have to look at the floundering legs, and only stopped when he began to feel a mild, dull pain there that he had never felt before. \"Oh, God\", he thought, \"what a strenuous career it is that I've chosen! Travelling day in and day out. Doing business like this takes much more effort than doing your own business at home, and on top of that there's the curse of travelling, worries about making train connections, bad and irregular food, contact with different people all the time so that you can never get to know anyone or become friendly with them. It can all go to Hell!\" He felt a slight itch up on his belly; pushed himself slowly up on his back towards the headboard so that he could lift his head better; found where the itch was, and saw that it was covered with lots of little white spots which he didn't know what to make of; and when he tried to feel the place with one of his legs he drew it quickly back because as soon as he touched it he was overcome by a cold shudder. He slid back into his former position. \"Getting up early all the time\", he thought, \"it makes you stupid. You've got to get enough sleep. Other travelling salesmen live a life of luxury. For instance, whenever I go back to the guest house during the morning to copy out the contract, these gentlemen are always still sitting there eating their breakfasts. I ought to just try that with my boss; I'd get kicked out on the spot. But who knows, maybe that would be the best thing for me. If I didn't have my parents to think about I'd have given in my notice a long time ago, I'd have gone up to the boss and told him just what I think, tell him everything I would, let him know just what I feel. He'd fall right off his desk! And it's a funny sort of business to be sitting up there at your desk, talking down at your subordinates from up there, especially when you have to go right up close because the boss is hard of hearing. Well, there's still some hope; once I've got the money together to pay off my parents' debt to him - another five or six years I suppose - that's definitely what I'll do. That's when I'll make the big change. First of all though, I've got to get up, my train leaves at five.\" And he looked over at the alarm clock, ticking on the chest of drawers. \"God in Heaven!\" he thought. It was half past six and the hands were quietly moving forwards, it was even later than half past, more like quarter to seven. Had the alarm clock not rung? He could see from the bed that it had been set for four o'clock as it should have been; it certainly must have rung. Yes, but was it possible to quietly sleep through that furniture-rattling noise? True, he had not slept peacefully, but probably all the more deeply because of that. What should he do now? The next train went at seven; if he were to catch that he would have to rush like mad and the collection of samples was still not packed, and he did not at all feel particularly fresh and lively. And even if he did catch the train he would not avoid his boss's anger as the office assistant would have been there to see the five o'clock train go, he would have put in his report about Gregor's not being there a long time ago. The office assistant was the boss's man, spineless, and with no understanding. What about if he reported sick? But that would be extremely strained and suspicious as in fifteen years of service Gregor had never once yet been ill. His boss would certainly come round with the doctor from the medical insurance company, accuse his parents of having a lazy son, and accept the doctor's recommendation not to make any claim as the doctor believed that no-one was ever ill but that many were workshy. And what's more, would he have been entirely wrong in this case? Gregor did in fact, apart from excessive sleepiness after sleeping for so long, feel completely well and even felt much hungrier than usual. One morning, when Gregor Samsa woke from troubled dreams, he found himself transformed in his bed into a horrible vermin. He lay on his armour-like back, and if he lifted his head a little he could see his brown belly, slightly domed and divided by arches into stiff sections. The bedding was hardly able to cover it and seemed ready to slide off any moment. His many legs, pitifully thin compared with the size of the rest of him, waved about helplessly as he looked. \"What's happened to me?\" he thought. It wasn't a dream. His room, a proper human room although a little too small, lay peacefully between its four familiar walls. A collection of textile samples lay spread out on the table - Samsa was a travelling salesman - and above it there hung a picture that he had recently cut out of an illustrated magazine and housed in a nice, gilded frame. It showed a lady fitted out with a fur hat and fur boa who sat upright, raising a heavy fur muff that covered the whole of her lower arm towards the viewer. Gregor then turned to look out the window at the dull weather. Drops of rain could be heard hitting the pane, which made him feel quite sad. \"How about if I sleep a little bit longer and forget all this nonsense\", he thought, but that was something he was unable to do because he was used to sleeping on his right, and in his present state couldn't get into that position. However hard he threw himself onto his right, he always rolled back to where he was. He must have tried it a hundred times, shut his eyes so that he wouldn't have to look at the floundering legs, and only stopped when he began to feel a mild, dull pain there that he had never felt before. \"Oh, God\", he thought, \"what a strenuous career it is that I've chosen! Travelling day in and day out. Doing business like this takes much more effort than doing your own business at home, and on top of that there's the curse of travelling, worries about making train connections, bad and irregular food, contact with different people all the time so that you can never get to know anyone or become friendly with them. It can all go to Hell!\" He felt a slight itch up on his belly; pushed himself slowly up on his back towards the headboard so that he could lift his head better; found where the itch was, and saw that it was covered with lots of little white spots which he didn't know what to make of; and when he tried to feel the place with one of his legs he drew it quickly back because as soon as he touched it he was overcome by a cold shudder. He slid back into his former position. \"Getting up early all the time\", he thought, \"it makes you stupid. You've got to get enough sleep. Other travelling salesmen live a life of luxury. For instance, whenever I go back to the guest house during the morning to copy out the contract, these gentlemen are always still sitting there eating their breakfasts. I ought to just try that with my boss; I'd get kicked out on the spot. But who knows, maybe that would be the best thing for me. If I didn't have my parents to think about I'd have given in my notice a long time ago, I'd have gone up to the boss and told him just what I think, tell him everything I would, let him know just what I feel. He'd fall right off his desk! And it's a funny sort of business to be sitting up there at your desk, talking down at your subordinates from up there, especially when you have to go right up close because the boss is hard of hearing. Well, there's still some hope; once I've got the money together to pay off my parents' debt to him - another five or six years I suppose - that's definitely what I'll do. That's when I'll make the big change. First of all though, I've got to get up, my train leaves at five.\" And he looked over at the alarm clock, ticking on the chest of drawers. \"God in Heaven!\" he thought. It was half past six and the hands were quietly moving forwards, it was even later than half past, more like quarter to seven. Had the alarm clock not rung? He could see from the bed that it had been set for four o'clock as it should have been; it certainly must have rung. Yes, but was it possible to quietly sleep through that furniture-rattling noise? True, he had not slept peacefully, but probably all the more deeply because of that. What should he do now? The next train went at seven; if he were to catch that he would have to rush like mad and the collection of samples was still not packed, and he did not at all feel particularly fresh and lively. And even if he did catch the train he would not avoid his boss's anger as the office assistant would have been there to see the five o'clock train go, he would have put in his report about Gregor's not being there a long time ago. The office assistant was the boss's man, spineless, and with no understanding. What about if he reported sick? But that would be extremely strained and suspicious as in fifteen years of service Gregor had never once yet been ill. His boss would certainly come round with the doctor from the medical insurance company, accuse his parents of having a lazy son, and accept the doctor's recommendation not to make any claim as the doctor believed that no-one was ever ill but that many were workshy. And what's more, would he have been entirely wrong in this case? Gregor did in fact, apart from excessive sleepiness after sleeping for so long, feel completely well and even felt much hungrier than usual. One morning, when Gregor Samsa woke from troubled dreams, he found himself transformed in his bed into a horrible vermin. He lay on his armour-like back, and if he lifted his head a little he could see his brown belly, slightly domed and divided by arches into stiff sections. The bedding was hardly able to cover it and seemed ready to slide off any moment. His many legs, pitifully thin compared with the size of the rest of him, waved about helplessly as he looked. \"What's happened to me?\" he thought. It wasn't a dream. His room, a proper human room although a little too small, lay peacefully between its four familiar walls. A collection of textile samples lay spread out on the table - Samsa was a travelling salesman - and above it there hung a picture that he had recently cut out of an illustrated magazine and housed in a nice, gilded frame. It showed a lady fitted out with a fur hat and fur boa who sat upright, raising a heavy fur muff that covered the whole of her lower arm towards the viewer. Gregor then turned to look out the window at the dull weather. Drops of rain could be heard hitting the pane, which made him feel quite sad. \"How about if I sleep a little bit longer and forget all this nonsense\", he thought, but that was something he was unable to do because he was used to sleeping on his right, and in his present state couldn't get into that position. However hard he threw himself onto his right, he always rolled back to where he was. He must have tried it a hundred times, shut his eyes so that he wouldn't have to look at the floundering legs, and only stopped when he began to feel a mild, dull pain there that he had never felt before. \"Oh, God\", he thought, \"what a strenuous career it is that I've chosen! Travelling day in and day out. Doing business like this takes much more effort than doing your own business at home, and on top of that there's the curse of travelling, worries about making train connections, bad and irregular food, contact with different people all the time so that you can never get to know anyone or become friendly with them. It can all go to Hell!\" He felt a slight itch up on his belly; pushed himself slowly up on his back towards the headboard so that he could lift his head better; found where the itch was, and saw that it was covered with lots of little white spots which he didn't know what to make of; and when he tried to feel the place with one of his legs he drew it quickly back because as soon as he touched it he was overcome by a cold shudder. He slid back into his former position. \"Getting up early all the time\", he thought, \"it makes you stupid. You've got to get enough sleep. Other travelling salesmen live a life of luxury. For instance, whenever I go back to the guest house during the morning to copy out the contract, these gentlemen are always still sitting there eating their breakfasts. I ought to just try that with my boss; I'd get kicked out on the spot. But who knows, maybe that would be the best thing for me. If I didn't have my parents to think about I'd have given in my notice a long time ago, I'd have gone up to the boss and told him just what I think, tell him everything I would, let him know just what I feel. He'd fall right off his desk! And it's a funny sort of business to be sitting up there at your desk, talking down at your subordinates from up there, especially when you have to go right up close because the boss is hard of hearing. Well, there's still some hope; once I've got the money together to pay off my parents' debt to him - another five or six years I suppose - that's definitely what I'll do. That's when I'll make the big change. First of all though, I've got to get up, my train leaves at five.\" And he looked over at the alarm clock, ticking on the chest of drawers. \"God in Heaven!\" he thought. It was half past six and the hands were quietly moving forwards, it was even later than half past, more like quarter to seven. Had the alarm clock not rung? He could see from the bed that it had been set for four o'clock as it should have been; it certainly must have rung. Yes, but was it possible to quietly sleep through that furniture-rattling noise? True, he had not slept peacefully, but probably all the more deeply because of that. What should he do now? The next train went at seven; if he were to catch that he would have to rush like mad and the collection of samples was still not packed, and he did not at all feel particularly fresh and lively. And even if he did catch the train he would not avoid his boss's anger as the office assistant would have been there to see the five o'clock train go, he would have put in his report about Gregor's not being there a long time ago. The office assistant was the boss's man, spineless, and with no understanding. What about if he reported sick? But that would be extremely strained and suspicious as in fifteen years of service Gregor had never once yet been ill. His boss would certainly come round with the doctor from the medical insurance company, accuse his parents of having a lazy son, and accept the doctor's recommendation not to make any claim as the doctor believed that no-one was ever ill but that many were workshy. And what's more, would he have been entirely wrong in this case? Gregor did in fact, apart from excessive sleepiness after sleeping for so long, feel completely well and even felt much hungrier than usual. One morning, when Gregor Samsa woke from troubled dreams, he found himself transformed in his bed into a horrible vermin. He lay on his armour-like back, and if he lifted his head a little he could see his brown belly, slightly domed and divided by arches into stiff sections. The bedding was hardly able to cover it and seemed ready to slide off any moment. His many legs, pitifully thin compared with the size of the rest of him, waved about helplessly as he looked. \"What's happened to me?\" he thought. It wasn't a dream. His room, a proper human room although a little too small, lay peacefully between its four familiar walls. A collection of textile samples lay spread out on the table - Samsa was a travelling salesman - and above it there hung a picture that he had recently cut out of an illustrated magazine and housed in a nice, gilded frame. It showed a lady fitted out with a fur hat and fur boa who sat upright, raising a heavy fur muff that covered the whole of her lower arm towards the viewer. Gregor then turned to look out the window at the dull weather. Drops of rain could be heard hitting the pane, which made him feel quite sad. \"How about if I sleep a little bit longer and forget all this nonsense\", he thought, but that was something he was unable to do because he was used to sleeping on his right, and in his present state couldn't get into that position. However hard he threw himself onto his right, he always rolled back to where he was. He must have tried it a hundred times, shut his eyes so that he wouldn't have to look at the floundering legs, and only stopped when he began to feel a mild, dull pain there that he had never felt before. \"Oh, God\", he thought, \"what a strenuous career it is that I've chosen! Travelling day in and day out. Doing business like this takes much more effort than doing your own business at home, and on top of that there's the curse of travelling, worries about making train connections, bad and irregular food, contact with different people all the time so that you can never get to know anyone or become friendly with them. It can all go to Hell!\" He felt a slight itch up on his belly; pushed himself slowly up on his back towards the headboard so that he could lift his head better; found where the itch was, and saw that it was covered with lots of little white spots which he didn't know what to make of; and when he tried to feel the place with one of his legs he drew it quickly back because as soon as he touched it he was overcome by a cold shudder. He slid back into his former position. \"Getting up early all the time\", he thought, \"it makes you stupid. You've got to get enough sleep. Other travelling salesmen live a life of luxury. For instance, whenever I go back to the guest house during the morning to copy out the contract, these gentlemen are always still sitting there eating their breakfasts. I ought to just try that with my boss; I'd get kicked out on the spot. But who knows, maybe that would be the best thing for me. If I didn't have my parents to think about I'd have given in my notice a long time ago, I'd have gone up to the boss and told him just what I think, tell him everything I would, let him know just what I feel. He'd fall right off his desk! And it's a funny sort of business to be sitting up there at your desk, talking down at your subordinates from up there, especially when you have to go right up close because the boss is hard of hearing. Well, there's still some hope; once I've got the money together to pay off my parents' debt to him - another five or six years I suppose - that's definitely what I'll do. That's when I'll make the big change. First of all though, I've got to get up, my train leaves at five.\" And he looked over at the alarm clock, ticking on the chest of drawers. \"God in Heaven!\" he thought. It was half past six and the hands were quietly moving forwards, it was even later than half past, more like quarter to seven. Had the alarm clock not rung? He could see from the bed that it had been set for four o'clock as it should have been; it certainly must have rung. Yes, but was it possible to quietly sleep through that furniture-rattling noise? True, he had not slept peacefully, but probably all the more deeply because of that. What should he do now? The next train went at seven; if he were to catch that he would have to rush like mad and the collection of samples was still not packed, and he did not at all feel particularly fresh and lively. And even if he did catch the train he would not avoid his boss's anger as the office assistant would have been there to see the five o'clock train go, he would have put in his report about Gregor's not being there a long time ago. The office assistant was the boss's man, spineless, and with no understanding. What about if he reported sick? But that would be extremely strained and suspicious as in fifteen years of service Gregor had never once yet been ill. His boss would certainly come round with the doctor from the medical insurance company, accuse his parents of having a lazy son, and accept the doctor's recommendation not to make any claim as the doctor believed that no-one was ever ill but that many were workshy. And what's more, would he have been entirely wrong in this case? Gregor did in fact, apart from excessive sleepiness after sleeping for so long, feel completely well and even felt much hungrier than usual. One morning, when Gregor Samsa woke from troubled dreams, he found himself transformed in his bed into a horrible vermin. He lay on his armour-like back, and if he lifted his head a little he could see his brown belly, slightly domed and divided by arches into stiff sections. The bedding was hardly able to cover it and seemed ready to slide off any moment. His many legs, pitifully thin compared with the size of the rest of him, waved about helplessly as he looked. \"What's happened to me?\" he thought. It wasn't a dream. His room, a proper human room although a little too small, lay peacefully between its four familiar walls. A collection of textile samples lay spread out on the table - Samsa was a travelling salesman - and above it there hung a picture that he had recently cut out of an illustrated magazine and housed in a nice, gilded frame. It showed a lady fitted out with a fur hat and fur boa who sat upright, raising a heavy fur muff that covered the whole of her lower arm towards the viewer. Gregor then turned to look out the window at the dull weather. Drops of rain could be heard hitting the pane, which made him feel quite sad. \"How about if I sleep a little bit longer and forget all this nonsense\", he thought, but that was something he was unable to do because he was used to sleeping on his right, and in his present state couldn't get into that position. However hard he threw himself onto his right, he always rolled back to where he was. He must have tried it a hundred times, shut his eyes so that he wouldn't have to look at the floundering legs, and only stopped when he began to feel a mild, dull pain there that he had never felt before. \"Oh, God\", he thought, \"what a strenuous career it is that I've chosen! Travelling day in and day out. Doing business like this takes much more effort than doing your own business at home, and on top of that there's the curse of travelling, worries about making train connections, bad and irregular food, contact with different people all the time so that you can never get to know anyone or become friendly with them. It can all go to Hell!\" He felt a slight itch up on his belly; pushed himself slowly up on his back towards the headboard so that he could lift his head better; found where the itch was, and saw that it was covered with lots of little white spots which he didn't know what to make of; and when he tried to feel the place with one of his legs he drew it quickly back because as soon as he touched it he was overcome by a cold shudder. He slid back into his former position. \"Getting up early all the time\", he thought, \"it makes you stupid. You've got to get enough sleep. Other travelling salesmen live a life of luxury. For instance, whenever I go back to the guest house during the morning to copy out the contract, these gentlemen are always still sitting there eating their breakfasts. I ought to just try that with my boss; I'd get kicked out on the spot. But who knows, maybe that would be the best thing for me. If I didn't have my parents to think about I'd have given in my notice a long time ago, I'd have gone up to the boss and told him just what I think, tell him everything I would, let him know just what I feel. He'd fall right off his desk! And it's a funny sort of business to be sitting up there at your desk, talking down at your subordinates from up there, especially when you have to go right up close because the boss is hard of hearing. Well, there's still some hope; once I've got the money together to pay off my parents' debt to him - another five or six years I suppose - that's definitely what I'll do. That's when I'll make the big change. First of all though, I've got to get up, my train leaves at five.\" And he looked over at the alarm clock, ticking on the chest of drawers. \"God in Heaven!\" he thought. It was half past six and the hands were quietly moving forwards, it was even later than half past, more like quarter to seven. Had the alarm clock not rung? He could see from the bed that it had been set for four o'clock as it should have been; it certainly must have rung. Yes, but was it possible to quietly sleep through that furniture-rattling noise? True, he had not slept peacefully, but probably all the more deeply because of that. What should he do now? The next train went at seven; if he were to catch that he would have to rush like mad and the collection of samples was still not packed, and he did not at all feel particularly fresh and lively. And even if he did catch the train he would not avoid his boss's anger as the office assistant would have been there to see the five o'clock train go, he would have put in his report about Gregor's not being there a long time ago. The office assistant was the boss's man, spineless, and with no understanding. What about if he reported sick? But that would be extremely strained and suspicious as in fifteen years of service Gregor had never once yet been ill. His boss would certainly come round with the doctor from the medical insurance company, accuse his parents of having a lazy son, and accept the doctor's recommendation not to make any claim as the doctor believed that no-one was ever ill but that many were workshy. And what's more, would he have been entirely wrong in this case? Gregor did in fact, apart from excessive sleepiness after sleeping for so long, feel completely well and even felt much hungrier than usual. One morning, when Gregor Samsa woke from troubled dreams, he found himself transformed in his bed into a horrible vermin. He lay on his armour-like back, and if he lifted his head a little he could see his brown belly, slightly domed and divided by arches into stiff sections. The bedding was hardly able to cover it and seemed ready to slide off any moment. His many legs, pitifully thin compared with the size of the rest of him, waved about helplessly as he looked. \"What's happened to me?\" he thought. It wasn't a dream. His room, a proper human room although a little too small, lay peacefully between its four familiar walls. A collection of textile samples lay spread out on the table - Samsa was a travelling salesman - and above it there hung a picture that he had recently cut out of an illustrated magazine and housed in a nice, gilded frame. It showed a lady fitted out with a fur hat and fur boa who sat upright, raising a heavy fur muff that covered the whole of her lower arm towards the viewer. Gregor then turned to look out the window at the dull weather. Drops of rain could be heard hitting the pane, which made him feel quite sad. \"How about if I sleep a little bit longer and forget all this nonsense\", he thought, but that was something he was unable to do because he was used to sleeping on his right, and in his present state couldn't get into that position. However hard he threw himself onto his right, he always rolled back to where he was. He must have tried it a hundred times, shut his eyes so that he wouldn't have to look at the floundering legs, and only stopped when he began to feel a mild, dull pain there that he had never felt before. \"Oh, God\", he thought, \"what a strenuous career it is that I've chosen! Travelling day in and day out. Doing business like this takes much more effort than doing your own business at home, and on top of that there's the curse of travelling, worries about making train connections, bad and irregular food, contact with different people all the time so that you can never get to know anyone or become friendly with them. It can all go to Hell!\" He felt a slight itch up on his belly; pushed himself slowly up on his back towards the headboard so that he could lift his head better; found where the itch was, and saw that it was covered with lots of little white spots which he didn't know what to make of; and when he tried to feel the place with one of his legs he drew it quickly back because as soon as he touched it he was overcome by a cold shudder. He slid back into his former position. \"Getting up early all the time\", he thought, \"it makes you stupid. You've got to get enough sleep. Other travelling salesmen live a life of luxury. For instance, whenever I go back to the guest house during the morning to copy out the contract, these gentlemen are always still sitting there eating their breakfasts. I ought to just try that with my boss; I'd get kicked out on the spot. But who knows, maybe that would be the best thing for me. If I didn't have my parents to think about I'd have given in my notice a long time ago, I'd have gone up to the boss and told him just what I think, tell him everything I would, let him know just what I feel. He'd fall right off his desk! And it's a funny sort of business to be sitting up there at your desk, talking down at your subordinates from up there, especially when you have to go right up close because the boss is hard of hearing. Well, there's still some hope; once I've got the money together to pay off my parents' debt to him - another five or six years I suppose - that's definitely what I'll do. That's when I'll make the big change. First of all though, I've got to get up, my train leaves at five.\" And he looked over at the alarm clock, ticking on the chest of drawers. \"God in Heaven!\" he thought. It was half past six and the hands were quietly moving forwards, it was even later than half past, more like quarter to seven. Had the alarm clock not rung? He could see from the bed that it had been set for four o'clock as it should have been; it certainly must have rung. Yes, but was it possible to quietly sleep through that furniture-rattling noise? True, he had not slept peacefully, but probably all the more deeply because of that. What should he do now? The next train went at seven; if he were to catch that he would have to rush like mad and the collection of samples was still not packed, and he did not at all feel particularly fresh and lively. And even if he did catch the train he would not avoid his boss's anger as the office assistant would have been there to see the five o'clock train go, he would have put in his report about Gregor's not being there a long time ago. The office assistant was the boss's man, spineless, and with no understanding. What about if he reported sick? But that would be extremely strained and suspicious as in fifteen years of service Gregor had never once yet been ill. His boss would certainly come round with the doctor from the medical insurance company, accuse his parents of having a lazy son, and accept the doctor's recommendation not to make any claim as the doctor believed that no-one was ever ill but that many were workshy. And what's more, would he have been entirely wrong in this case? Gregor did in fact, apart from excessive sleepiness after sleeping for so long, feel completely well and even felt much hungrier than usual. One morning, when Gregor Samsa woke from troubled dreams, he found himself transformed in his bed into a horrible vermin. He lay on his armour-like back, and if he lifted his head a little he could see his brown belly, slightly domed and divided by arches into stiff sections. The bedding was hardly able to cover it and seemed ready to slide off any moment. His many legs, pitifully thin compared with the size of the rest of him, waved about helplessly as he looked. \"What's happened to me?\" he thought. It wasn't a dream. His room, a proper human room although a little too small, lay peacefully between its four familiar walls. A collection of textile samples lay spread out on the table - Samsa was a travelling salesman - and above it there hung a picture that he had recently cut out of an illustrated magazine and housed in a nice, gilded frame. It showed a lady fitted out with a fur hat and fur boa who sat upright, raising a heavy fur muff that covered the whole of her lower arm towards the viewer. Gregor then turned to look out the window at the dull weather. Drops of rain could be heard hitting the pane, which made him feel quite sad. \"How about if I sleep a little bit longer and forget all this nonsense\", he thought, but that was something he was unable to do because he was used to sleeping on his right, and in his present state couldn't get into that position. However hard he threw himself onto his right, he always rolled back to where he was. He must have tried it a hundred times, shut his eyes so that he wouldn't have to look at the floundering legs, and only stopped when he began to feel a mild, dull pain there that he had never felt before. \"Oh, God\", he thought, \"what a strenuous career it is that I've chosen! Travelling day in and day out. Doing business like this takes much more effort than doing your own business at home, and on top of that there's the curse of travelling, worries about making train connections, bad and irregular food, contact with different people all the time so that you can never get to know anyone or become friendly with them. It can all go to Hell!\" He felt a slight itch up on his belly; pushed himself slowly up on his back towards the headboard so that he could lift his head better; found where the itch was, and saw that it was covered with lots of little white spots which he didn't know what to make of; and when he tried to feel the place with one of his legs he drew it quickly back because as soon as he touched it he was overcome by a cold shudder. He slid back into his former position. \"Getting up early all the time\", he thought, \"it makes you stupid. You've got to get enough sleep. Other travelling salesmen live a life of luxury. For instance, whenever I go back to the guest house during the morning to copy out the contract, these gentlemen are always still sitting there eating their breakfasts. I ought to just try that with my boss; I'd get kicked out on the spot. But who knows, maybe that would be the best thing for me. If I didn't have my parents to think about I'd have given in my notice a long time ago, I'd have gone up to the boss and told him just what I think, tell him everything I would, let him know just what I feel. He'd fall right off his desk! And it's a funny sort of business to be sitting up there at your desk, talking down at your subordinates from up there, especially when you have to go right up close because the boss is hard of hearing. Well, there's still some hope; once I've got the money together to pay off my parents' debt to him - another five or six years I suppose - that's definitely what I'll do. That's when I'll make the big change. First of all though, I've got to get up, my train leaves at five.\" And he looked over at the alarm clock, ticking on the chest of drawers. \"God in Heaven!\" he thought. It was half past six and the hands were quietly moving forwards, it was even later than half past, more like quarter to seven. Had the alarm clock not rung? He could see from the bed that it had been set for four o'clock as it should have been; it certainly must have rung. Yes, but was it possible to quietly sleep through that furniture-rattling noise? True, he had not slept peacefully, but probably all the more deeply because of that. What should he do now? The next train went at seven; if he were to catch that he would have to rush like mad and the collection of samples was still not packed, and he did not at all feel particularly fresh and lively. And even if he did catch the train he would not avoid his boss's anger as the office assistant would have been there to see the five o'clock train go, he would have put in his report about Gregor's not being there a long time ago. The office assistant was the boss's man, spineless, and with no understanding. What about if he reported sick? But that would be extremely strained and suspicious as in fifteen years of service Gregor had never once yet been ill. His boss would certainly come round with the doctor from the medical insurance company, accuse his parents of having a lazy son, and accept the doctor's recommendation not to make any claim as the doctor believed that no-one was ever ill but that many were workshy. And what's more, would he have been entirely wrong in this case? Gregor did in fact, apart from excessive sleepiness after sleeping for so long, feel completely well and even felt much hungrier than usual.One morning, when Gregor Samsa woke from troubled dreams, he found himself transformed in his bed into a horrible vermin. He lay on his armour-like back, and if he lifted his head a little he could see his brown belly, slightly domed and divided by arches into stiff sections. The bedding was hardly able to cover it and seemed ready to slide off any moment. His many legs, pitifully thin compared with the size of the rest of him, waved about helplessly as he looked. \"What's happened to me?\" he thought. It wasn't a dream. His room, a proper human room although a little too small, lay peacefully between its four familiar walls. A collection of textile samples lay spread out on the table - Samsa was a travelling salesman - and above it there hung a picture that he had recently cut out of an illustrated magazine and housed in a nice, gilded frame. It showed a lady fitted out with a fur hat and fur boa who sat upright, raising a heavy fur muff that covered the whole of her lower arm towards the viewer. Gregor then turned to look out the window at the dull weather. Drops of rain could be heard hitting the pane, which made him feel quite sad. \"How about if I sleep a little bit longer and forget all this nonsense\", he thought, but that was something he was unable to do because he was used to sleeping on his right, and in his present state couldn't get into that position. However hard he threw himself onto his right, he always rolled back to where he was. He must have tried it a hundred times, shut his eyes so that he wouldn't have to look at the floundering legs, and only stopped when he began to feel a mild, dull pain there that he had never felt before. \"Oh, God\", he thought, \"what a strenuous career it is that I've chosen! Travelling day in and day out. Doing business like this takes much more effort than doing your own business at home, and on top of that there's the curse of travelling, worries about making train connections, bad and irregular food, contact with different people all the time so that you can never get to know anyone or become friendly with them. It can all go to Hell!\" He felt a slight itch up on his belly; pushed himself slowly up on his back towards the headboard so that he could lift his head better; found where the itch was, and saw that it was covered with lots of little white spots which he didn't know what to make of; and when he tried to feel the place with one of his legs he drew it quickly back because as soon as he touched it he was overcome by a cold shudder. He slid back into his former position. \"Getting up early all the time\", he thought, \"it makes you stupid. You've got to get enough sleep. Other travelling salesmen live a life of luxury. For instance, whenever I go back to the guest house during the morning to copy out the contract, these gentlemen are always still sitting there eating their breakfasts. I ought to just try that with my boss; I'd get kicked out on the spot. But who knows, maybe that would be the best thing for me. If I didn't have my parents to think about I'd have given in my notice a long time ago, I'd have gone up to the boss and told him just what I think, tell him everything I would, let him know just what I feel. He'd fall right off his desk! And it's a funny sort of business to be sitting up there at your desk, talking down at your subordinates from up there, especially when you have to go right up close because the boss is hard of hearing. Well, there's still some hope; once I've got the money together to pay off my parents' debt to him - another five or six years I suppose - that's definitely what I'll do. That's when I'll make the big change. First of all though, I've got to get up, my train leaves at five.\" And he looked over at the alarm clock, ticking on the chest of drawers. \"God in Heaven!\" he thought. It was half past six and the hands were quietly moving forwards, it was even later than half past, more like quarter to seven. Had the alarm clock not rung? He could see from the bed that it had been set for four o'clock as it should have been; it certainly must have rung. Yes, but was it possible to quietly sleep through that furniture-rattling noise? True, he had not\n",
            "\n",
            "\n",
            "🔴 Running Unoptimized Version...\n",
            "After Start Memory Useage: {'cpu_memory_mb': 595.91, 'cpu_usage_percent': 0.0, 'gpu_memory_mb': 0.0, 'gpu_usage_percent': 1.74, 'gpu_total_memory_mb': 15360.0} MB, BY AGENT agent_unoptimized\n",
            "After End Memory Useage: {'cpu_memory_mb': 594.64, 'cpu_usage_percent': 0.0, 'gpu_memory_mb': 0.0, 'gpu_usage_percent': 72.49, 'gpu_total_memory_mb': 15360.0} MB, BY AGENT agent_unoptimized\n",
            "\n",
            "🟢 Running Optimized Version...\n",
            "After Start Memory Useage: {'cpu_memory_mb': 594.64, 'cpu_usage_percent': 0.0, 'gpu_memory_mb': 0.0, 'gpu_usage_percent': 72.49, 'gpu_total_memory_mb': 15360.0} MB, BY AGENT agent_optimized\n",
            "After End Memory Useage: {'cpu_memory_mb': 594.64, 'cpu_usage_percent': 0.0, 'gpu_memory_mb': 0.0, 'gpu_usage_percent': 72.49, 'gpu_total_memory_mb': 15360.0} MB, BY AGENT agent_optimized\n",
            "\n",
            "🔎 Results Comparison:\n",
            "Metric              Unoptimized         Optimized\n",
            "------------------------------------------------------------\n",
            "Time (s)            65.11               15.46\n",
            "Tokens Used         287                 163\n",
            "Response            The passage you provided is an excerpt from Franz ...  In Franz Kafka's \"The Metamorphosis,\" Gregor Samsa...\n",
            "============================================================\n",
            "\n",
            "Response full Unoptimized: The passage you provided is an excerpt from Franz Kafka's novella \"The Metamorphosis.\" It begins with Gregor Samsa waking up transformed into a monstrous insect-like creature. This transformation serves as the central premise of the story and sets the stage for exploring themes such as alienation, identity, and the burdens of familial obligations.\n",
            "\n",
            "Here’s a breakdown of the key elements in this passage:\n",
            "\n",
            "1. **Transformation**: The sudden metamorphosis of Gregor is both shocking and surreal. Kafka uses this transformation to symbolize Gregor's feelings of entrapment and dehumanization within his life as a traveling salesman and primary breadwinner for his family.\n",
            "\n",
            "2. **Setting**: Gregor’s room, described as \"a proper human room,\" contrasts with his new insect form, highlighting the tension between his former humanity and his current state.\n",
            "\n",
            "3. **Daily Routine**: The mention of textile samples and a picture from an illustrated magazine underscores Gregor's mundane existence before his transformation. These details reflect his role in the family business and hint at his desire for normalcy and connection to human culture.\n",
            "\n",
            "4. **Emotional State**: Gregor’s thoughts about sleep, discomfort with waking up early, and his dreams of rebellion against his boss suggest deep dissatisfaction with his life. His monologue reveals a longing for change and relief from his burdens.\n",
            "\n",
            "5. **Clock Time**: The alarm clock serves as a symbol of the relentless passage of time and societal pressures. Gregor's realization that he is late for work reflects his entrapment in a routine dictated by external expectations.\n",
            "\n",
            "Overall, Kafka uses this opening scene to effectively introduce readers to the central conflict of \"The Metamorphosis\": the struggle between individual identity and external responsibilities. The transformation acts as a catalyst for exploring deeper themes related to human existence and societal norms.\n",
            " Response full Optimized: In Franz Kafka's \"The Metamorphosis,\" Gregor Samsa awakens one morning to find himself transformed into a grotesque insect. His body is covered in armor-like skin, and his many thin legs move helplessly. Confused and distressed by this change, he notes that it is not a dream but reality, as his room remains unchanged with familiar furnishings like textile samples and an illustrated magazine picture on the wall.\n",
            "\n",
            "Gregor considers going back to sleep to forget his predicament but finds it impossible due to his new form, which prevents him from lying comfortably. Despite repeated attempts, he cannot return to his usual sleeping position without experiencing a painful sensation in his abdomen. Reflecting on his demanding life as a traveling salesman, Gregor recognizes the physical and emotional toll of his job—travel, worries about schedules, poor food, and constant contact with strangers. The dreary weather outside only adds to his melancholy, underscoring his sense of entrapment and helplessness in both his career and current situation.\n"
          ]
        }
      ],
      "source": [
        "def agent_unoptimized(big_input):\n",
        "    prompt = f\"Summarize this: {big_input}\"\n",
        "    return ollama_chat(model=\"phi4\", prompt=prompt)\n",
        "\n",
        "def agent_optimized(big_input):\n",
        "    # Pre-truncate or summarize first few lines\n",
        "    important_part = big_input[:2000]  # First 2000 characters\n",
        "    prompt = f\"Summarize this content: {important_part}\"\n",
        "    return ollama_chat(model=\"phi4\", prompt=prompt)\n",
        "\n",
        "compare_agents(agent_unoptimized, agent_optimized, large_input, \"Optimization 2: Input Size Management\")"
      ]
    },
    {
      "cell_type": "markdown",
      "metadata": {
        "id": "8xRW4429pGQ_"
      },
      "source": [
        "# Optimization 3: Context Window Usage"
      ]
    },
    {
      "cell_type": "code",
      "execution_count": null,
      "metadata": {
        "id": "sN_R_wFLpS7N"
      },
      "outputs": [],
      "source": [
        "history = [\"Hi\", \"Tell me about cats\", \"Tell me about dogs\", \"Now lions\"]\n",
        "\n",
        "last_question_answer_pair = [{\n",
        "  \"question\": \"Now lions\",\n",
        "  \"answer\": \"\"\"\n",
        "  ### Lions:\n",
        "- **Habitat**: Native to sub-Saharan Africa; a small population resides in India's Gir Forest.\n",
        "- **Social Structure**: Known for their pride social structure, typically consisting of related females, cubs, and a few males.\n",
        "- **Diet**: Carnivorous apex predators that hunt large ungulates like zebras and wildebeests.\n",
        "- **Conservation Status**: Vulnerable due to habitat loss, human-wildlife conflict, and poaching.\n",
        "\"\"\"\n",
        "}]\n",
        "\n",
        "context = \"\\n\".join(history)"
      ]
    },
    {
      "cell_type": "code",
      "execution_count": null,
      "metadata": {
        "colab": {
          "base_uri": "https://localhost:8080/",
          "height": 890
        },
        "id": "UM1w6WknpXqd",
        "outputId": "20f3d847-cb4f-4b09-a91d-5fe27f5b8cd4"
      },
      "outputs": [
        {
          "name": "stdout",
          "output_type": "stream",
          "text": [
            "After Start Memory Useage: {'cpu_memory_mb': 594.62, 'cpu_usage_percent': 9.5, 'gpu_memory_mb': 0.0, 'gpu_usage_percent': 1.74, 'gpu_total_memory_mb': 15360.0} MB, BY AGENT agent_unoptimized\n",
            "After End Memory Useage: {'cpu_memory_mb': 594.54, 'cpu_usage_percent': 0.0, 'gpu_memory_mb': 0.0, 'gpu_usage_percent': 71.94, 'gpu_total_memory_mb': 15360.0} MB, BY AGENT agent_unoptimized\n",
            "--- Run Stats ---\n",
            "Time taken: 61.57 seconds\n",
            "Tokens used: 261\n",
            "Response: Sure! Here's a brief overview of each animal:\n",
            "\n",
            "### Cats:\n",
            "Cats are small, typically furry carnivorous mammals. Domestic cats are often valued by humans for companionship and their ability to hunt vermin. They are known for being independent but also affectionate with their owners. Cats have flexible bodies, sharp retractable claws, and keen senses adapted for hunting.\n",
            "\n",
            "### Dogs:\n",
            "Dogs are domesticated mammals that are widely considered man's best friend. They come in a variety of breeds, sizes, and temperaments. Originally bred from wolves, dogs have been used for various purposes including herding, hunting, protection, and companionship. Known for their loyalty and intelligence, they can be trained to perform many tasks.\n",
            "\n",
            "### Lions:\n",
            "Lions are large felines known as the \"king of the jungle.\" They live in groups called prides and are social animals compared to other big cats. Male lions have a distinctive mane, which is absent in females. Primarily found in Africa, with a small population in India (Asiatic lion), they are carnivorous predators that hunt large ungulates like zebras and wildebeests.\n",
            "\n",
            "### Rabbits:\n",
            "Rabbits are small mammals known for their long ears, short tails, and strong hind legs adapted for jumping. They have fur-covered bodies and usually feed on grasses, herbs, and vegetables. Rabbits are often kept as pets due to their cute appearance and playful nature. In the wild, they are prey animals, so they rely heavily on their speed and ability to hide in burrows or dense vegetation for protection.\n",
            "\n",
            "If you have more questions about any of these animals or others, feel free to ask!\n",
            "-----------------\n",
            "\n",
            "After Start Memory Useage: {'cpu_memory_mb': 594.54, 'cpu_usage_percent': 0.0, 'gpu_memory_mb': 0.0, 'gpu_usage_percent': 71.94, 'gpu_total_memory_mb': 15360.0} MB, BY AGENT agent_optimized\n",
            "After End Memory Useage: {'cpu_memory_mb': 594.54, 'cpu_usage_percent': 52.6, 'gpu_memory_mb': 0.0, 'gpu_usage_percent': 71.97, 'gpu_total_memory_mb': 15360.0} MB, BY AGENT agent_optimized\n",
            "--- Run Stats ---\n",
            "Time taken: 17.03 seconds\n",
            "Tokens used: 174\n",
            "Response: ### Rabbits:\n",
            "\n",
            "- **Habitat**: Rabbits are highly adaptable and can be found in a wide range of environments across the world, including forests, grasslands, deserts, and even urban areas. They prefer areas with ample cover such as bushes or tall grass to hide from predators.\n",
            "\n",
            "- **Social Structure**: Typically, rabbits live in groups known as warrens, which are complex systems of burrows dug into the ground. These social structures help them protect themselves from predators and raise their young collectively.\n",
            "\n",
            "- **Diet**: Rabbits are herbivores and have a diet primarily consisting of grasses, leaves, and vegetables. They practice coprophagy (eating their own fecal pellets) to extract more nutrients from their food.\n",
            "\n",
            "- **Reproduction**: Known for their high reproductive rate, rabbits can give birth to large litters several times a year. This rapid reproduction helps maintain their population despite predation pressures.\n",
            "\n",
            "- **Conservation Status**: Most rabbit species are not considered endangered or at risk due to their adaptability and prolific breeding habits. However, habitat loss and disease (such as myxomatosis) can impact local populations significantly.\n",
            "-----------------\n",
            "\n"
          ]
        },
        {
          "data": {
            "application/vnd.google.colaboratory.intrinsic+json": {
              "type": "string"
            },
            "text/plain": [
              "'### Rabbits:\\n\\n- **Habitat**: Rabbits are highly adaptable and can be found in a wide range of environments across the world, including forests, grasslands, deserts, and even urban areas. They prefer areas with ample cover such as bushes or tall grass to hide from predators.\\n\\n- **Social Structure**: Typically, rabbits live in groups known as warrens, which are complex systems of burrows dug into the ground. These social structures help them protect themselves from predators and raise their young collectively.\\n\\n- **Diet**: Rabbits are herbivores and have a diet primarily consisting of grasses, leaves, and vegetables. They practice coprophagy (eating their own fecal pellets) to extract more nutrients from their food.\\n\\n- **Reproduction**: Known for their high reproductive rate, rabbits can give birth to large litters several times a year. This rapid reproduction helps maintain their population despite predation pressures.\\n\\n- **Conservation Status**: Most rabbit species are not considered endangered or at risk due to their adaptability and prolific breeding habits. However, habitat loss and disease (such as myxomatosis) can impact local populations significantly.'"
            ]
          },
          "execution_count": 27,
          "metadata": {},
          "output_type": "execute_result"
        }
      ],
      "source": [
        "def agent_unoptimized(new_question, history):\n",
        "    context = \"\\n\".join(history)\n",
        "    prompt = f\"{context}\\nUser: {new_question}\\nAnswer:\"\n",
        "    return ollama_chat(model=\"phi4\", prompt=prompt)\n",
        "\n",
        "def agent_optimized(new_question, last_question_answer_pair):\n",
        "    context = f\"Previous Q&A:\\n{last_question_answer_pair}\"\n",
        "    prompt = f\"{context}\\nNew Question: {new_question}\\nAnswer:\"\n",
        "    return ollama_chat(model=\"phi4\", prompt=prompt)\n",
        "\n",
        "track_agent_run(agent_unoptimized, {\"new_question\": \"now tell me about rabbit\", \"history\": history})\n",
        "track_agent_run(agent_optimized, {\"new_question\": \"now tell me about rabbit\", \"last_question_answer_pair\": last_question_answer_pair})"
      ]
    },
    {
      "cell_type": "markdown",
      "metadata": {
        "id": "K0t33iv54s1n"
      },
      "source": [
        "# Optimization 4: Output Format Control"
      ]
    },
    {
      "cell_type": "code",
      "execution_count": null,
      "metadata": {
        "colab": {
          "base_uri": "https://localhost:8080/"
        },
        "id": "Dczzr6Ys4k1N",
        "outputId": "20bee7ce-73df-435e-c31e-6be254fe5d0c"
      },
      "outputs": [
        {
          "name": "stdout",
          "output_type": "stream",
          "text": [
            "\n",
            "===== Optimization 4: Output Format Control =====\n",
            "Input: Japan\n",
            "\n",
            "🔴 Running Unoptimized Version...\n",
            "After Start Memory Useage: {'cpu_memory_mb': 630.16, 'cpu_usage_percent': 0.0, 'gpu_memory_mb': 0.0, 'gpu_usage_percent': 1.74, 'gpu_total_memory_mb': 15360.0} MB, BY AGENT agent_unoptimized\n",
            "After End Memory Useage: {'cpu_memory_mb': 638.34, 'cpu_usage_percent': 0.0, 'gpu_memory_mb': 0.0, 'gpu_usage_percent': 71.94, 'gpu_total_memory_mb': 15360.0} MB, BY AGENT agent_unoptimized\n",
            "\n",
            "🟢 Running Optimized Version...\n",
            "After Start Memory Useage: {'cpu_memory_mb': 638.34, 'cpu_usage_percent': 0.0, 'gpu_memory_mb': 0.0, 'gpu_usage_percent': 71.94, 'gpu_total_memory_mb': 15360.0} MB, BY AGENT agent_optimized\n",
            "After End Memory Useage: {'cpu_memory_mb': 638.34, 'cpu_usage_percent': 65.0, 'gpu_memory_mb': 0.0, 'gpu_usage_percent': 71.94, 'gpu_total_memory_mb': 15360.0} MB, BY AGENT agent_optimized\n",
            "\n",
            "🔎 Results Comparison:\n",
            "Metric              Unoptimized         Optimized\n",
            "------------------------------------------------------------\n",
            "Time (s)            51.90               9.72\n",
            "Tokens Used         186                 114\n",
            "Response            Japan is home to many incredible tourist destinati...  1. **Mount Fuji** - An iconic symbol of Japan, Mou...\n",
            "============================================================\n",
            "\n",
            "Response full Unoptimized: Japan is home to many incredible tourist destinations, each offering unique experiences and cultural insights. Here are three of the most popular:\n",
            "\n",
            "1. **Mount Fuji**: As Japan's highest mountain and an iconic symbol of the country, Mount Fuji attracts visitors for its breathtaking beauty and cultural significance. Many tourists enjoy climbing it during the official hiking season or simply admiring its grandeur from surrounding areas like Lake Kawaguchi.\n",
            "\n",
            "2. **Kyoto**: Known for its well-preserved temples, traditional wooden houses, and beautiful gardens, Kyoto is a hub of Japanese history and culture. Highlights include Kinkaku-ji (the Golden Pavilion), Fushimi Inari-taisha with its iconic torii gates, and the historic Gion district known for geisha sightings.\n",
            "\n",
            "3. **Tokyo**: A bustling metropolis offering an exciting mix of traditional and modern attractions, Tokyo is home to a variety of sites such as the ancient Senso-ji Temple in Asakusa, the high-tech wonders of Akihabara, and the serene beauty of the Meiji Shrine and Yoyogi Park. The city's diverse neighborhoods like Shibuya and Shinjuku provide endless exploration opportunities.\n",
            "\n",
            "These destinations offer just a glimpse into Japan's rich tapestry of natural beauty and cultural heritage.\n",
            " Response full Unoptimized: 1. **Mount Fuji** - An iconic symbol of Japan, Mount Fuji is a dormant volcano and the highest peak in the country. Its breathtaking beauty attracts millions of visitors annually for hiking, photography, and cultural significance.\n",
            "\n",
            "2. **Tokyo Disneyland and DisneySea** - Located in Urayasu City, these theme parks offer thrilling rides, enchanting environments, and unique attractions that cater to both children and adults. They are a must-visit for fans of the Disney brand.\n",
            "\n",
            "3. **Kyoto's Historic Districts** - Known as the cultural heart of Japan, Kyoto is home to stunning temples such as Kinkaku-ji (Golden Pavilion) and Fushimi Inari-taisha. The city offers a glimpse into traditional Japanese architecture, tea ceremonies, and geisha culture.\n"
          ]
        }
      ],
      "source": [
        "def agent_unoptimized(input_text):\n",
        "    prompt = f\"List the top 3 tourist spots in {input_text}.\"\n",
        "    return ollama_chat(model=\"phi4\", prompt=prompt)\n",
        "\n",
        "def agent_optimized(input_text):\n",
        "    prompt = f\"\"\"List the top 3 tourist spots in {input_text}.\n",
        "Format it as:\n",
        "1. Spot Name - Short Description\n",
        "2. Spot Name - Short Description\n",
        "3. Spot Name - Short Description\"\"\"\n",
        "    return ollama_chat(model=\"phi4\", prompt=prompt)\n",
        "\n",
        "\n",
        "compare_agents(agent_unoptimized, agent_optimized, \"Japan\", \"Optimization 4: Output Format Control\")"
      ]
    },
    {
      "cell_type": "markdown",
      "metadata": {
        "id": "SEX6p20M5erk"
      },
      "source": [
        "# Optimization 5: Memory and State Management"
      ]
    },
    {
      "cell_type": "code",
      "execution_count": null,
      "metadata": {
        "colab": {
          "base_uri": "https://localhost:8080/"
        },
        "id": "tNQBmAhY7Zky",
        "outputId": "597ec786-272a-4240-8240-d68caf36acc9"
      },
      "outputs": [
        {
          "name": "stdout",
          "output_type": "stream",
          "text": [
            "\n",
            "===== Optimization 5: Memory and State Management =====\n",
            "Input: Who am I?\n",
            "\n",
            "🔴 Running Unoptimized Version...\n",
            "After Start Memory Useage: {'cpu_memory_mb': 641.64, 'cpu_usage_percent': 19.0, 'gpu_memory_mb': 0.0, 'gpu_usage_percent': 71.95, 'gpu_total_memory_mb': 15360.0} MB, BY AGENT agent_unoptimized\n",
            "After End Memory Useage: {'cpu_memory_mb': 641.64, 'cpu_usage_percent': 0.0, 'gpu_memory_mb': 0.0, 'gpu_usage_percent': 71.95, 'gpu_total_memory_mb': 15360.0} MB, BY AGENT agent_unoptimized\n",
            "\n",
            "🟢 Running Optimized Version...\n",
            "After Start Memory Useage: {'cpu_memory_mb': 641.64, 'cpu_usage_percent': 4.8, 'gpu_memory_mb': 0.0, 'gpu_usage_percent': 71.95, 'gpu_total_memory_mb': 15360.0} MB, BY AGENT agent_optimized\n",
            "After End Memory Useage: {'cpu_memory_mb': 641.64, 'cpu_usage_percent': 0.0, 'gpu_memory_mb': 0.0, 'gpu_usage_percent': 71.95, 'gpu_total_memory_mb': 15360.0} MB, BY AGENT agent_optimized\n",
            "\n",
            "🔎 Results Comparison:\n",
            "Metric              Unoptimized         Optimized\n",
            "------------------------------------------------------------\n",
            "Time (s)            6.00               5.19\n",
            "Tokens Used         69                  51\n",
            "Response            Based on the information provided, you introduced ...  You are likely referring to Roy Maka, a Japanese a...\n",
            "============================================================\n",
            "\n",
            "Response full Unoptimized: Based on the information provided, you introduced yourself as \"roy\" and mentioned living in Tokyo with an interest in lions. Without additional context or specific references, it's not possible for me to determine who exactly you are beyond what you've shared.\n",
            "\n",
            "If there is a particular question or further details you'd like to discuss or explore about your interests or situation in Tokyo, feel free to let me know!\n",
            " Response full Unoptimized: You are likely referring to Roy Maka, a Japanese artist known for his distinctive lion-themed artwork. He was born as Ryōji Akiyama but is widely recognized by his stage name, Roy Maka. His vibrant and stylized illustrations of lions have gained significant popularity worldwide, especially in the context of streetwear culture.\n"
          ]
        }
      ],
      "source": [
        "memory = [\"Hi\", \"I am roy\", \"I live in tokyo\", \"I like lions\", \"I have five kids\"]\n",
        "\n",
        "def agent_unoptimized(user_input):\n",
        "    memory.append(user_input)\n",
        "    prompt = f\"{' '.join(memory)}\"\n",
        "    return ollama_chat(model=\"phi4\", prompt=prompt)\n",
        "\n",
        "def agent_optimized(user_input):\n",
        "    memory.append(user_input)\n",
        "    if len(memory) > 5:\n",
        "        memory.pop(0)  # Keep only last 5 messages\n",
        "    prompt = f\"{' '.join(memory)}\"\n",
        "    return ollama_chat(model=\"phi4\", prompt=prompt)\n",
        "\n",
        "\n",
        "compare_agents(agent_unoptimized, agent_optimized, \"Who am I?\", \"Optimization 5: Memory and State Management\")\n"
      ]
    },
    {
      "cell_type": "markdown",
      "metadata": {
        "id": "Mwax7xxn7D_6"
      },
      "source": [
        "# Optimization 6: Function Calling Efficiency"
      ]
    },
    {
      "cell_type": "code",
      "execution_count": null,
      "metadata": {
        "colab": {
          "base_uri": "https://localhost:8080/"
        },
        "id": "EWVU_hjZ8NEI",
        "outputId": "587ca92a-6c76-4816-c64f-840b4ff12b2a"
      },
      "outputs": [
        {
          "name": "stdout",
          "output_type": "stream",
          "text": [
            "\n",
            "===== Optimization 6: Function Calling Efficiency =====\n",
            "Input: ask my travel agency to book\n",
            "\n",
            "🔴 Running Unoptimized Version...\n",
            "After Start Memory Useage: {'cpu_memory_mb': 641.64, 'cpu_usage_percent': 71.4, 'gpu_memory_mb': 0.0, 'gpu_usage_percent': 71.95, 'gpu_total_memory_mb': 15360.0} MB, BY AGENT agent_unoptimized\n",
            "After End Memory Useage: {'cpu_memory_mb': 641.64, 'cpu_usage_percent': 0.0, 'gpu_memory_mb': 0.0, 'gpu_usage_percent': 71.95, 'gpu_total_memory_mb': 15360.0} MB, BY AGENT agent_unoptimized\n",
            "\n",
            "🟢 Running Optimized Version...\n",
            "After Start Memory Useage: {'cpu_memory_mb': 641.64, 'cpu_usage_percent': 75.0, 'gpu_memory_mb': 0.0, 'gpu_usage_percent': 71.95, 'gpu_total_memory_mb': 15360.0} MB, BY AGENT agent_optimized\n",
            "After End Memory Useage: {'cpu_memory_mb': 641.64, 'cpu_usage_percent': 0.0, 'gpu_memory_mb': 0.0, 'gpu_usage_percent': 71.95, 'gpu_total_memory_mb': 15360.0} MB, BY AGENT agent_optimized\n",
            "\n",
            "🔎 Results Comparison:\n",
            "Metric              Unoptimized         Optimized\n",
            "------------------------------------------------------------\n",
            "Time (s)            21.39               1.99\n",
            "Tokens Used         197                 16\n",
            "Response            If you're looking to book a trip through a travel ...  book_flight\n",
            "\n",
            "(Note: The selected function \"book_fl...\n",
            "============================================================\n",
            "\n",
            "Response full Unoptimized: If you're looking to book a trip through a travel agency, the specific \"function\" or service request will depend on your needs and preferences. Here are some steps you might consider:\n",
            "\n",
            "1. **Define Your Travel Requirements:**\n",
            "   - Destination(s)\n",
            "   - Dates of travel\n",
            "   - Budget range\n",
            "   - Type of accommodation (hotel, resort, etc.)\n",
            "   - Transportation preferences (flights, car rentals, etc.)\n",
            "   - Activities or tours\n",
            "\n",
            "2. **Contact the Travel Agency:**\n",
            "   - Call their customer service number.\n",
            "   - Use their website contact form if available.\n",
            "   - Visit in person if they have a local office.\n",
            "\n",
            "3. **Discuss Your Needs:**\n",
            "   - Clearly communicate your travel requirements.\n",
            "   - Ask about package deals that might suit you.\n",
            "   - Inquire about any special offers or discounts.\n",
            "\n",
            "4. **Request for Customization:**\n",
            "   - If needed, ask them to customize a package based on your preferences.\n",
            "\n",
            "5. **Confirm Details:**\n",
            "   - Ensure all details (dates, prices, itinerary) are confirmed in writing.\n",
            "   - Clarify cancellation policies and travel insurance options.\n",
            "\n",
            "6. **Proceed with Booking:**\n",
            "   - Provide necessary personal information for the booking.\n",
            "   - Make any required payments or deposits.\n",
            "\n",
            "By following these steps, you can effectively communicate your needs to a travel agency and ensure a smooth booking process.\n",
            " Response full Unoptimized: book_flight\n",
            "\n",
            "(Note: The selected function \"book_flight\" is based on the context provided in the task description.)\n"
          ]
        }
      ],
      "source": [
        "def agent_unoptimized(task):\n",
        "    prompt = f\"What function should I call to {task}?\"\n",
        "    return ollama_chat(model=\"phi4\", prompt=prompt)\n",
        "\n",
        "def agent_optimized(task):\n",
        "    prompt = f\"\"\"Given the task, choose one function only:\n",
        "- search()\n",
        "- get_weather()\n",
        "- book_flight()\n",
        "\n",
        "Task: {task}\n",
        "Return only the function name.\"\"\"\n",
        "    return ollama_chat(model=\"phi4\", prompt=prompt)\n",
        "\n",
        "\n",
        "compare_agents(agent_unoptimized, agent_optimized, \"ask my travel agency to book\", \"Optimization 6: Function Calling Efficiency\")\n"
      ]
    },
    {
      "cell_type": "markdown",
      "metadata": {
        "id": "bRHPQ0kI8kgY"
      },
      "source": [
        "# Optimization 7: Fallback Strategies"
      ]
    },
    {
      "cell_type": "code",
      "execution_count": null,
      "metadata": {
        "colab": {
          "base_uri": "https://localhost:8080/"
        },
        "id": "un7GAZDM8sLJ",
        "outputId": "fc3af5b6-d46f-4396-dc4c-2377c25418d4"
      },
      "outputs": [
        {
          "name": "stdout",
          "output_type": "stream",
          "text": [
            "\n",
            "===== Optimization 7: Fallback Strategies =====\n",
            "Input: I dont have a yellow pen. Now give me my yellow pen.\n",
            "\n",
            "🔴 Running Unoptimized Version...\n",
            "After Start Memory Useage: {'cpu_memory_mb': 641.62, 'cpu_usage_percent': 57.9, 'gpu_memory_mb': 0.0, 'gpu_usage_percent': 71.95, 'gpu_total_memory_mb': 15360.0} MB, BY AGENT agent_unoptimized\n",
            "After End Memory Useage: {'cpu_memory_mb': 641.62, 'cpu_usage_percent': 5.3, 'gpu_memory_mb': 0.0, 'gpu_usage_percent': 71.95, 'gpu_total_memory_mb': 15360.0} MB, BY AGENT agent_unoptimized\n",
            "\n",
            "🟢 Running Optimized Version...\n",
            "After Start Memory Useage: {'cpu_memory_mb': 641.62, 'cpu_usage_percent': 0.0, 'gpu_memory_mb': 0.0, 'gpu_usage_percent': 71.95, 'gpu_total_memory_mb': 15360.0} MB, BY AGENT agent_optimized\n",
            "After End Memory Useage: {'cpu_memory_mb': 641.62, 'cpu_usage_percent': 0.0, 'gpu_memory_mb': 0.0, 'gpu_usage_percent': 71.95, 'gpu_total_memory_mb': 15360.0} MB, BY AGENT agent_optimized\n",
            "\n",
            "🔎 Results Comparison:\n",
            "Metric              Unoptimized         Optimized\n",
            "------------------------------------------------------------\n",
            "Time (s)            15.24               14.02\n",
            "Tokens Used         172                 144\n",
            "Response            It seems like you're asking for help in obtaining ...  It sounds like you need a yellow pen, but since I ...\n",
            "============================================================\n",
            "\n",
            "Response full Unoptimized: It seems like you're asking for help in obtaining a yellow pen, but as an AI text-based assistant, I can't physically provide or deliver items to you. However, here are some suggestions on how you might acquire one:\n",
            "\n",
            "1. **Office Supply Store**: Visit a nearby store that sells office supplies and purchase a new yellow pen.\n",
            "\n",
            "2. **Online Retailers**: Order one from online platforms such as Amazon, eBay, or Walmart if you prefer shopping from home.\n",
            "\n",
            "3. **Stationery Stores**: Check out local stationery shops for a variety of options.\n",
            "\n",
            "4. **Library or School Supply Closet**: If you have access to these places, they might have pens available for use.\n",
            "\n",
            "5. **Ask Around**: You could ask friends, family, or colleagues if they have an extra yellow pen they can lend or give you.\n",
            "\n",
            "6. **Reuse Existing Pens**: If the color isn't crucial, consider using a pen of another color that you already possess and changing the ink refill to yellow if possible.\n",
            "\n",
            "Let me know if there's anything else I can help with!\n",
            " Response full Unoptimized: It sounds like you need a yellow pen, but since I don't physically possess anything, I can suggest some ways to obtain one:\n",
            "\n",
            "1. **Office or School Supply Closet**: Check if there's a supply closet nearby where pens are kept for general use.\n",
            "\n",
            "2. **Ask Colleagues or Classmates**: Someone might have an extra yellow pen that they can lend you.\n",
            "\n",
            "3. **Stationery Store**: If time allows, visit a local store to purchase one.\n",
            "\n",
            "4. **Online Retailers**: For convenience, consider ordering one from online platforms like Amazon if immediate need isn't critical.\n",
            "\n",
            "5. **Household Search**: Look around your home or office; sometimes pens are misplaced in unexpected places.\n",
            "\n",
            "6. **Reuse Other Pens**: If you have a pen that is nearly out of ink but has yellow casing, it might serve as a temporary solution.\n",
            "\n",
            "Let me know if there's anything else I can help with!\n"
          ]
        }
      ],
      "source": [
        "def agent_unoptimized(input_text):\n",
        "    prompt = f\"{input_text}\"\n",
        "    return ollama_chat(model=\"phi4\", prompt=prompt)\n",
        "\n",
        "def agent_optimized(input_text):\n",
        "    prompt = f\"{input_text}\"\n",
        "    result = ollama_chat(model=\"phi4\", prompt=prompt)\n",
        "    if not result:\n",
        "        # fallback prompt\n",
        "        prompt2 = f\"Retry: {input_text}. Be concise.\"\n",
        "        result = ollama_chat(model=\"phi4\", prompt=prompt2)\n",
        "    return result\n",
        "\n",
        "compare_agents(agent_unoptimized, agent_optimized, \"I dont have a yellow pen. Now give me my yellow pen.\", \"Optimization 7: Fallback Strategies\")"
      ]
    },
    {
      "cell_type": "markdown",
      "metadata": {
        "id": "XjintLZT9I-G"
      },
      "source": [
        "# Optimization 8: System Instruction Tuning"
      ]
    },
    {
      "cell_type": "code",
      "execution_count": null,
      "metadata": {
        "colab": {
          "base_uri": "https://localhost:8080/"
        },
        "id": "dAu1KhPb9Oj_",
        "outputId": "955547ce-920c-4948-9512-d5995dfb8071"
      },
      "outputs": [
        {
          "name": "stdout",
          "output_type": "stream",
          "text": [
            "\n",
            "===== Optimization 8: System Instruction Tuning =====\n",
            "Input: I dont have a yellow pen. Now give me my yellow pen.\n",
            "\n",
            "🔴 Running Unoptimized Version...\n",
            "After Start Memory Useage: {'cpu_memory_mb': 641.62, 'cpu_usage_percent': 4.8, 'gpu_memory_mb': 0.0, 'gpu_usage_percent': 71.95, 'gpu_total_memory_mb': 15360.0} MB, BY AGENT agent_unoptimized\n",
            "After End Memory Useage: {'cpu_memory_mb': 641.62, 'cpu_usage_percent': 0.0, 'gpu_memory_mb': 0.0, 'gpu_usage_percent': 71.95, 'gpu_total_memory_mb': 15360.0} MB, BY AGENT agent_unoptimized\n",
            "\n",
            "🟢 Running Optimized Version...\n",
            "After Start Memory Useage: {'cpu_memory_mb': 641.62, 'cpu_usage_percent': 14.3, 'gpu_memory_mb': 0.0, 'gpu_usage_percent': 71.95, 'gpu_total_memory_mb': 15360.0} MB, BY AGENT agent_optimized\n",
            "After End Memory Useage: {'cpu_memory_mb': 641.62, 'cpu_usage_percent': 0.0, 'gpu_memory_mb': 0.0, 'gpu_usage_percent': 71.95, 'gpu_total_memory_mb': 15360.0} MB, BY AGENT agent_optimized\n",
            "\n",
            "🔎 Results Comparison:\n",
            "Metric              Unoptimized         Optimized\n",
            "------------------------------------------------------------\n",
            "Time (s)            14.97               5.81\n",
            "Tokens Used         161                 62\n",
            "Response            It sounds like you're in need of a yellow pen. Whi...  I'm sorry, but I cannot provide you with a physica...\n",
            "============================================================\n",
            "\n",
            "Response full Unoptimized: It sounds like you're in need of a yellow pen. While I can't physically provide one to you, here are a few suggestions on how you might obtain one:\n",
            "\n",
            "1. **Office Supply Store**: Visit your local office supply store and purchase a yellow pen.\n",
            "\n",
            "2. **Online Shopping**: Order a yellow pen from an online retailer like Amazon or Walmart.\n",
            "\n",
            "3. **Stationery Shop**: Check out any nearby stationery stores for various styles of yellow pens.\n",
            "\n",
            "4. **Library or Office**: If you have access to a library or workplace, they might have some available for use.\n",
            "\n",
            "5. **Ask Friends/Family**: See if someone around you has a spare yellow pen they could lend you.\n",
            "\n",
            "6. **Office or Classroom**: Check your office or classroom supplies; there's often a communal stash of pens and pencils.\n",
            "\n",
            "7. **Recycle an Old Pen**: If you have old pens, consider refilling them with yellow ink if possible.\n",
            "\n",
            "I hope one of these solutions helps you find the pen you need!\n",
            " Response full Unoptimized: I'm sorry, but I cannot provide you with a physical item like a yellow pen. However, if you need one, you might consider purchasing it from a store or checking online retailers. If this is an issue in a specific context (e.g., at work or school), you may want to ask someone nearby for assistance or request one through the appropriate channels.\n"
          ]
        }
      ],
      "source": [
        "def agent_unoptimized(input_text):\n",
        "    prompt = f\"{input_text}\"\n",
        "    return ollama_chat(model=\"phi4\", prompt=prompt)\n",
        "\n",
        "def agent_optimized(input_text):\n",
        "    system = \"You are a helpful, concise assistant. Answer precisely.\"\n",
        "    prompt = f\"{system}\\nUser: {input_text}\\nAnswer:\"\n",
        "    return ollama_chat(model=\"phi4\", prompt=prompt)\n",
        "\n",
        "compare_agents(agent_unoptimized, agent_optimized, \"I dont have a yellow pen. Now give me my yellow pen.\", \"Optimization 8: System Instruction Tuning\")"
      ]
    },
    {
      "cell_type": "markdown",
      "metadata": {},
      "source": [
        "##Optimizations Instructions and Guide:\n",
        "\n",
        "FAISS Index: Switched to IndexIVFFlat with clustering for faster searches, especially with larger datasets.\n",
        "\n",
        "Batch Processing: Added add_documents method to process multiple documents at once, reducing embedding overhead.\n",
        "\n",
        "Embedding Caching: Used @lru_cache and a dictionary-based cache to store embeddings, reducing redundant computations.\n",
        "\n",
        "Prompt Optimization: Simplified the prompt to reduce token usage without losing context.\n",
        "\n",
        "Performance Tracking: Added cache hit tracking to monitor optimization effectiveness.\n",
        "\n",
        "Embedding Model: Configured with batch_size and show_progress_bar=False for faster processing.\n",
        "\n",
        "\n",
        "#Expected Performance Improvements\n",
        "Token Usage: Reduced by ~30-50% due to concise prompts and cached embeddings.\n",
        "\n",
        "Query Time: Improved by ~20-40% due to faster FAISS index and caching.\n",
        "\n",
        "Scalability: Better handling of larger datasets with IndexIVFFlat and batch processing.\n",
        "\n",
        "Notes Dependencies: Install ollama, faiss-cpu, sentence-transformers, and numpy.\n",
        "\n",
        "Ollama Setup: Ensure phi4 model is pulled via ollama pull phi4.\n",
        "\n",
        "FAISS: IndexIVFFlat requires training, which is done with random data here for simplicity. In production, use real data for better clustering.\n",
        "\n",
        "Performance Metrics: Actual improvements depend on dataset size and query patterns. The optimized version shines with repeated queries and larger datasets.\n",
        "\n",
        "Run both scripts to compare performance. The optimized version should show lower token usage and faster query times, especially with multiple queries or larger document sets."
      ]
    }
  ],
  "metadata": {
    "accelerator": "GPU",
    "colab": {
      "gpuType": "T4",
      "provenance": []
    },
    "kernelspec": {
      "display_name": "Python 3",
      "name": "python3"
    },
    "language_info": {
      "name": "python"
    }
  },
  "nbformat": 4,
  "nbformat_minor": 0
}
